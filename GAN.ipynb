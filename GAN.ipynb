{
 "cells": [
  {
   "cell_type": "markdown",
   "metadata": {},
   "source": [
    "# Generative Adversarial Network (GAN)"
   ]
  },
  {
   "cell_type": "markdown",
   "metadata": {},
   "source": [
    "GAN has two components, a generator and a discriminator. The generator generates e.g. images, from random noise, and the discriminator descerns whether an image given to it (either by the generator (fake) or image file (true)) it real or fake. These two components are trained one after the other, in series, rather than in parallel."
   ]
  },
  {
   "cell_type": "markdown",
   "metadata": {},
   "source": [
    "## Generator"
   ]
  },
  {
   "cell_type": "markdown",
   "metadata": {},
   "source": [
    "The generator synthesises fake images. "
   ]
  },
  {
   "cell_type": "code",
   "execution_count": 1,
   "metadata": {},
   "outputs": [
    {
     "name": "stderr",
     "output_type": "stream",
     "text": [
      "/usr/lib64/python3.6/site-packages/h5py/__init__.py:36: FutureWarning: Conversion of the second argument of issubdtype from `float` to `np.floating` is deprecated. In future, it will be treated as `np.float64 == np.dtype(float).type`.\n",
      "  from ._conv import register_converters as _register_converters\n",
      "Using TensorFlow backend.\n"
     ]
    }
   ],
   "source": [
    "import numpy as np\n",
    "import keras\n",
    "import keras.backend as K\n",
    "from keras.layers import Input, Dense, Activation, LeakyReLU, BatchNormalization\n",
    "from keras.models import Sequential, Model\n",
    "from keras.optimizers import Adam\n",
    "from sklearn.model_selection import train_test_split\n",
    "import matplotlib.pyplot as plt\n",
    "%matplotlib inline"
   ]
  },
  {
   "cell_type": "code",
   "execution_count": 2,
   "metadata": {},
   "outputs": [],
   "source": [
    "(X_train, y_train), (X_test, y_test) = keras.datasets.mnist.load_data()"
   ]
  },
  {
   "cell_type": "code",
   "execution_count": 3,
   "metadata": {},
   "outputs": [],
   "source": [
    "num_train, height, width = X_train.shape\n",
    "depth = 1"
   ]
  },
  {
   "cell_type": "markdown",
   "metadata": {},
   "source": [
    "### Noise"
   ]
  },
  {
   "cell_type": "markdown",
   "metadata": {},
   "source": [
    "Generate noise (sometimes called latent samples) for the generator input. It is best to use random smmles from a Gaussian input, rather than Uniform. "
   ]
  },
  {
   "cell_type": "markdown",
   "metadata": {},
   "source": [
    "### Preprocessing"
   ]
  },
  {
   "cell_type": "markdown",
   "metadata": {},
   "source": [
    "Flattern images and scale images to -1 and 1 for comparison with the tanh activation function of the generator."
   ]
  },
  {
   "cell_type": "code",
   "execution_count": 4,
   "metadata": {},
   "outputs": [],
   "source": [
    "def preprocess(x):    \n",
    "    x = x.reshape(-1, 784) # 784=28*28\n",
    "    x = np.float64(x)\n",
    "    x = (x / 255 - 0.5) * 2\n",
    "    x = np.clip(x, -1, 1)\n",
    "    return x"
   ]
  },
  {
   "cell_type": "code",
   "execution_count": 5,
   "metadata": {},
   "outputs": [],
   "source": [
    "X_train_real = preprocess(X_train)\n",
    "X_test_real  = preprocess(X_test)"
   ]
  },
  {
   "cell_type": "markdown",
   "metadata": {},
   "source": [
    "### Deprocessing"
   ]
  },
  {
   "cell_type": "markdown",
   "metadata": {},
   "source": [
    "Must reverse preporcessing after image has been generated for visual comparison."
   ]
  },
  {
   "cell_type": "code",
   "execution_count": 6,
   "metadata": {},
   "outputs": [],
   "source": [
    "def deprocess(x):\n",
    "    x = (x / 2 + 1) * 255\n",
    "    x = np.clip(x, 0, 255)\n",
    "    x = np.uint8(x)\n",
    "    x = x.reshape(28, 28)\n",
    "    return x"
   ]
  },
  {
   "cell_type": "markdown",
   "metadata": {},
   "source": [
    "### Labels"
   ]
  },
  {
   "cell_type": "markdown",
   "metadata": {},
   "source": [
    "We need to label the images 1, for real, and 0, for fake."
   ]
  },
  {
   "cell_type": "markdown",
   "metadata": {},
   "source": [
    "### Training"
   ]
  },
  {
   "cell_type": "code",
   "execution_count": 7,
   "metadata": {},
   "outputs": [],
   "source": [
    "class GAN:\n",
    "    def __init__ (self, g_hiddensize, d_hiddensize, leaky_alpha, g_learningrate, d_learningrate, sample_size):\n",
    "        \"\"\"Input functions of:\n",
    "            g_hiddensize - the size of the hidden layer in the inital generator dense layer,\n",
    "            d_hiddensize - the size of the hidden layer in the inital discriminator dense layer,\n",
    "            leaky_alpha - the gradient of the straight line for x < 0 for the LeakyReLU activation function,\n",
    "            g_learningrate - learning rate for the generator,\n",
    "            d_learningrate - learning rate for the discriminator,\n",
    "            sample_size - the size of the noise dataset.\n",
    "            \"\"\"\n",
    "        self.g_hiddensize = g_hiddensize\n",
    "        self.d_hiddensize = d_hiddensize\n",
    "        self.leaky_alpha = leaky_alpha\n",
    "        self.g_learningrate = g_learningrate\n",
    "        self.d_learningrate = d_learningrate\n",
    "        self.sample_size = sample_size\n",
    "    \n",
    "    def generator(self):\n",
    "        inpt = Input(shape=(self.sample_size,))\n",
    "        \n",
    "        dense_1 = Dense(self.g_hiddensize)(inpt)\n",
    "        LR = LeakyReLU(alpha=self.leaky_alpha)(dense_1)\n",
    "        out = Dense(784, activation = 'tanh')(LR)\n",
    "        \n",
    "        generator = Model(inpt,out)\n",
    "        return generator\n",
    "    \n",
    "    def discriminator(self,xdata):\n",
    "        num_examples, shape = xdata.shape\n",
    "        inpt = Input(shape=(shape,)) ### make this an input or detect the size\n",
    "        \n",
    "        dense_1 = Dense(self.d_hiddensize)(inpt)\n",
    "        LR = LeakyReLU(alpha=self.leaky_alpha)(dense_1)\n",
    "        out = Dense(1, activation = 'sigmoid')(LR)\n",
    "        \n",
    "        discriminator = Model(inpt,out)\n",
    "        return discriminator\n",
    "    \n",
    "    def fit(self,xtrain_real,xtest_real,batch_size,smooth,eval_size,epochs):\n",
    "        \n",
    "        discriminator = self.discriminator(xtrain_real)\n",
    "        generator = self.generator()\n",
    "        \n",
    "        gan = Sequential([\n",
    "            generator,\n",
    "            discriminator\n",
    "        ])\n",
    "        \n",
    "        discriminator.compile(optimizer=Adam(lr=self.d_learningrate), loss='binary_crossentropy')\n",
    "        gan.compile(optimizer=Adam(lr=self.g_learningrate), loss='binary_crossentropy')\n",
    "        \n",
    "        # labels for the batch size and the test size\n",
    "        y_train_real, y_train_fake = self.make_labels(batch_size)\n",
    "        y_eval_real,  y_eval_fake  = self.make_labels(eval_size)\n",
    "        \n",
    "        losses = []\n",
    "        for i in range(epochs):\n",
    "            for j in range(len(xtrain_real)//batch_size):\n",
    "                #real images\n",
    "                xbatch_real = xtrain_real[j*batch_size:(j+1)*batch_size]\n",
    "                \n",
    "                #noise\n",
    "                noise = self.noise(batch_size,self.sample_size)\n",
    "                xbatch_fake = generator.predict_on_batch(noise)\n",
    "                \n",
    "                #train discriminator\n",
    "                self.make_trainable(discriminator,True)\n",
    "                discriminator.train_on_batch(xbatch_real,y_train_real*(1-smooth))\n",
    "                discriminator.train_on_batch(xbatch_fake,y_train_fake)\n",
    "                \n",
    "                #train generator\n",
    "                self.make_trainable(discriminator,False)\n",
    "                gan.train_on_batch(noise,y_train_real)\n",
    "                \n",
    "            # evaluate\n",
    "            xeval_real = xtest_real[np.random.choice(len(xtest_real), eval_size, replace=False)]\n",
    "    \n",
    "            noise = self.noise(eval_size, self.sample_size)\n",
    "            xeval_fake = generator.predict_on_batch(noise)\n",
    "\n",
    "            d_loss  = discriminator.test_on_batch(xeval_real, y_eval_real)\n",
    "            d_loss += discriminator.test_on_batch(xeval_fake, y_eval_fake)\n",
    "            g_loss  = gan.test_on_batch(noise, y_eval_real) # we want the fake to be realistic!\n",
    "    \n",
    "            losses.append((d_loss, g_loss))\n",
    "    \n",
    "            print(\"Epoch: {:>3}/{} Discriminator Loss: {:>6.4f} Generator Loss: {:>6.4f}\".format(i+1, epochs, d_loss, g_loss))     \n",
    "    \n",
    "    def make_trainable(self,model, trainable):\n",
    "        for layer in model.layers:\n",
    "            layer.trainable = trainable\n",
    "            \n",
    "    def make_labels(self,size):\n",
    "        return np.ones([size, 1]), np.zeros([size, 1])\n",
    "    \n",
    "    def noise(self,num_samples, sample_size):\n",
    "        return np.random.normal(loc=0, scale=1, size=(num_samples, sample_size))"
   ]
  },
  {
   "cell_type": "code",
   "execution_count": 8,
   "metadata": {},
   "outputs": [],
   "source": [
    "# hyperparameters\n",
    "sample_size     = 100     # latent sample size (i.e., 100 random numbers)\n",
    "g_hiddensize   = 128\n",
    "d_hiddensize   = 128\n",
    "leaky_alpha     = 0.01\n",
    "g_learningrate = 0.0001  # learning rate for the generator\n",
    "d_learningrate = 0.001   # learning rate for the discriminator\n",
    "epochs          = 300\n",
    "batch_size      = 64      # train batch size\n",
    "eval_size       = 16      # evaluate size\n",
    "smooth          = 0.1\n",
    "\n",
    "SGAN = GAN(g_hiddensize, d_hiddensize, leaky_alpha, g_learningrate, d_learningrate, sample_size)"
   ]
  },
  {
   "cell_type": "code",
   "execution_count": 9,
   "metadata": {
    "scrolled": true
   },
   "outputs": [
    {
     "name": "stderr",
     "output_type": "stream",
     "text": [
      "/usr/lib64/python3.6/site-packages/keras/engine/training.py:953: UserWarning: Discrepancy between trainable weights and collected trainable weights, did you set `model.trainable` without calling `model.compile` after ?\n",
      "  'Discrepancy between trainable weights and collected trainable'\n"
     ]
    },
    {
     "name": "stdout",
     "output_type": "stream",
     "text": [
      "Epoch:   1/300 Discriminator Loss: 0.1498 Generator Loss: 2.2400\n",
      "Epoch:   2/300 Discriminator Loss: 0.8699 Generator Loss: 5.7502\n",
      "Epoch:   3/300 Discriminator Loss: 0.1565 Generator Loss: 2.6784\n",
      "Epoch:   4/300 Discriminator Loss: 1.4616 Generator Loss: 7.0966\n",
      "Epoch:   5/300 Discriminator Loss: 0.3789 Generator Loss: 1.7190\n",
      "Epoch:   6/300 Discriminator Loss: 0.3946 Generator Loss: 2.7452\n",
      "Epoch:   7/300 Discriminator Loss: 0.2367 Generator Loss: 2.4354\n",
      "Epoch:   8/300 Discriminator Loss: 0.9011 Generator Loss: 1.1111\n",
      "Epoch:   9/300 Discriminator Loss: 0.2757 Generator Loss: 2.2782\n",
      "Epoch:  10/300 Discriminator Loss: 0.0795 Generator Loss: 4.0881\n",
      "Epoch:  11/300 Discriminator Loss: 0.2867 Generator Loss: 2.1844\n",
      "Epoch:  12/300 Discriminator Loss: 0.2918 Generator Loss: 2.3652\n",
      "Epoch:  13/300 Discriminator Loss: 0.4291 Generator Loss: 3.0116\n",
      "Epoch:  14/300 Discriminator Loss: 0.6654 Generator Loss: 4.2400\n",
      "Epoch:  15/300 Discriminator Loss: 0.5038 Generator Loss: 3.1735\n",
      "Epoch:  16/300 Discriminator Loss: 0.0930 Generator Loss: 3.2391\n",
      "Epoch:  17/300 Discriminator Loss: 0.3534 Generator Loss: 3.3062\n",
      "Epoch:  18/300 Discriminator Loss: 0.1757 Generator Loss: 2.6689\n",
      "Epoch:  19/300 Discriminator Loss: 0.4102 Generator Loss: 3.3764\n",
      "Epoch:  20/300 Discriminator Loss: 0.3425 Generator Loss: 2.7415\n",
      "Epoch:  21/300 Discriminator Loss: 0.6857 Generator Loss: 1.1288\n",
      "Epoch:  22/300 Discriminator Loss: 0.3458 Generator Loss: 1.7269\n",
      "Epoch:  23/300 Discriminator Loss: 0.8642 Generator Loss: 0.9762\n",
      "Epoch:  24/300 Discriminator Loss: 0.3338 Generator Loss: 2.4646\n",
      "Epoch:  25/300 Discriminator Loss: 0.4896 Generator Loss: 2.3043\n",
      "Epoch:  26/300 Discriminator Loss: 0.3852 Generator Loss: 2.3765\n",
      "Epoch:  27/300 Discriminator Loss: 0.5492 Generator Loss: 2.5147\n",
      "Epoch:  28/300 Discriminator Loss: 0.4346 Generator Loss: 2.5160\n",
      "Epoch:  29/300 Discriminator Loss: 0.4126 Generator Loss: 2.4754\n",
      "Epoch:  30/300 Discriminator Loss: 0.6989 Generator Loss: 1.2819\n",
      "Epoch:  31/300 Discriminator Loss: 0.2634 Generator Loss: 2.2636\n",
      "Epoch:  32/300 Discriminator Loss: 0.2286 Generator Loss: 2.3215\n",
      "Epoch:  33/300 Discriminator Loss: 0.3386 Generator Loss: 2.4546\n",
      "Epoch:  34/300 Discriminator Loss: 0.6377 Generator Loss: 1.2230\n",
      "Epoch:  35/300 Discriminator Loss: 0.2708 Generator Loss: 2.8164\n",
      "Epoch:  36/300 Discriminator Loss: 0.2067 Generator Loss: 3.0324\n",
      "Epoch:  37/300 Discriminator Loss: 0.3522 Generator Loss: 2.7559\n",
      "Epoch:  38/300 Discriminator Loss: 0.3935 Generator Loss: 2.4465\n",
      "Epoch:  39/300 Discriminator Loss: 0.4110 Generator Loss: 2.9154\n",
      "Epoch:  40/300 Discriminator Loss: 0.6365 Generator Loss: 2.6241\n",
      "Epoch:  41/300 Discriminator Loss: 0.2928 Generator Loss: 2.8550\n",
      "Epoch:  42/300 Discriminator Loss: 0.4809 Generator Loss: 3.6278\n",
      "Epoch:  43/300 Discriminator Loss: 0.7087 Generator Loss: 3.0954\n",
      "Epoch:  44/300 Discriminator Loss: 0.5825 Generator Loss: 2.6628\n",
      "Epoch:  45/300 Discriminator Loss: 0.1840 Generator Loss: 2.8458\n",
      "Epoch:  46/300 Discriminator Loss: 0.5568 Generator Loss: 2.7613\n",
      "Epoch:  47/300 Discriminator Loss: 0.3316 Generator Loss: 3.1360\n",
      "Epoch:  48/300 Discriminator Loss: 0.4427 Generator Loss: 2.7227\n",
      "Epoch:  49/300 Discriminator Loss: 0.7020 Generator Loss: 2.9630\n",
      "Epoch:  50/300 Discriminator Loss: 0.5945 Generator Loss: 3.0763\n",
      "Epoch:  51/300 Discriminator Loss: 0.4755 Generator Loss: 2.8230\n",
      "Epoch:  52/300 Discriminator Loss: 0.5405 Generator Loss: 3.5406\n",
      "Epoch:  53/300 Discriminator Loss: 0.5550 Generator Loss: 3.8854\n",
      "Epoch:  54/300 Discriminator Loss: 0.6670 Generator Loss: 4.8642\n",
      "Epoch:  55/300 Discriminator Loss: 0.5927 Generator Loss: 2.7163\n",
      "Epoch:  56/300 Discriminator Loss: 0.3847 Generator Loss: 2.7012\n",
      "Epoch:  57/300 Discriminator Loss: 0.3380 Generator Loss: 3.0568\n",
      "Epoch:  58/300 Discriminator Loss: 0.4849 Generator Loss: 3.5231\n",
      "Epoch:  59/300 Discriminator Loss: 1.0212 Generator Loss: 3.8190\n",
      "Epoch:  60/300 Discriminator Loss: 0.6459 Generator Loss: 3.3870\n",
      "Epoch:  61/300 Discriminator Loss: 1.2510 Generator Loss: 2.9932\n",
      "Epoch:  62/300 Discriminator Loss: 0.5356 Generator Loss: 3.4748\n",
      "Epoch:  63/300 Discriminator Loss: 0.4269 Generator Loss: 3.0751\n",
      "Epoch:  64/300 Discriminator Loss: 0.6469 Generator Loss: 3.2397\n",
      "Epoch:  65/300 Discriminator Loss: 0.4016 Generator Loss: 2.6122\n",
      "Epoch:  66/300 Discriminator Loss: 0.2819 Generator Loss: 2.7990\n",
      "Epoch:  67/300 Discriminator Loss: 0.5911 Generator Loss: 2.2513\n",
      "Epoch:  68/300 Discriminator Loss: 0.5986 Generator Loss: 2.5925\n",
      "Epoch:  69/300 Discriminator Loss: 0.4317 Generator Loss: 2.2237\n",
      "Epoch:  70/300 Discriminator Loss: 0.6896 Generator Loss: 2.8686\n",
      "Epoch:  71/300 Discriminator Loss: 0.7654 Generator Loss: 2.0348\n",
      "Epoch:  72/300 Discriminator Loss: 0.4995 Generator Loss: 2.5147\n",
      "Epoch:  73/300 Discriminator Loss: 0.4294 Generator Loss: 2.5302\n",
      "Epoch:  74/300 Discriminator Loss: 0.4287 Generator Loss: 4.0215\n",
      "Epoch:  75/300 Discriminator Loss: 1.0127 Generator Loss: 3.0658\n",
      "Epoch:  76/300 Discriminator Loss: 0.5485 Generator Loss: 2.2397\n",
      "Epoch:  77/300 Discriminator Loss: 0.4957 Generator Loss: 2.7710\n",
      "Epoch:  78/300 Discriminator Loss: 0.8953 Generator Loss: 2.4985\n",
      "Epoch:  79/300 Discriminator Loss: 0.6549 Generator Loss: 3.1510\n",
      "Epoch:  80/300 Discriminator Loss: 0.4849 Generator Loss: 2.9642\n",
      "Epoch:  81/300 Discriminator Loss: 1.0704 Generator Loss: 3.0748\n",
      "Epoch:  82/300 Discriminator Loss: 0.4151 Generator Loss: 3.6987\n",
      "Epoch:  83/300 Discriminator Loss: 0.4256 Generator Loss: 2.3426\n",
      "Epoch:  84/300 Discriminator Loss: 0.3958 Generator Loss: 2.6774\n",
      "Epoch:  85/300 Discriminator Loss: 0.6718 Generator Loss: 2.5069\n",
      "Epoch:  86/300 Discriminator Loss: 1.0088 Generator Loss: 2.2467\n",
      "Epoch:  87/300 Discriminator Loss: 0.6624 Generator Loss: 2.3490\n",
      "Epoch:  88/300 Discriminator Loss: 0.9999 Generator Loss: 3.0261\n",
      "Epoch:  89/300 Discriminator Loss: 0.5608 Generator Loss: 2.6381\n",
      "Epoch:  90/300 Discriminator Loss: 0.6898 Generator Loss: 2.1829\n",
      "Epoch:  91/300 Discriminator Loss: 0.9193 Generator Loss: 2.9614\n",
      "Epoch:  92/300 Discriminator Loss: 0.6770 Generator Loss: 3.6605\n",
      "Epoch:  93/300 Discriminator Loss: 0.7280 Generator Loss: 3.0697\n",
      "Epoch:  94/300 Discriminator Loss: 0.3512 Generator Loss: 3.2049\n",
      "Epoch:  95/300 Discriminator Loss: 0.4759 Generator Loss: 3.1734\n",
      "Epoch:  96/300 Discriminator Loss: 0.5578 Generator Loss: 2.3480\n",
      "Epoch:  97/300 Discriminator Loss: 0.5810 Generator Loss: 2.9679\n",
      "Epoch:  98/300 Discriminator Loss: 0.8030 Generator Loss: 3.5618\n",
      "Epoch:  99/300 Discriminator Loss: 0.7773 Generator Loss: 2.1643\n",
      "Epoch: 100/300 Discriminator Loss: 0.8142 Generator Loss: 2.8905\n",
      "Epoch: 101/300 Discriminator Loss: 1.0536 Generator Loss: 2.9511\n",
      "Epoch: 102/300 Discriminator Loss: 0.5717 Generator Loss: 3.1706\n",
      "Epoch: 103/300 Discriminator Loss: 1.0035 Generator Loss: 3.3342\n",
      "Epoch: 104/300 Discriminator Loss: 1.1300 Generator Loss: 2.7831\n",
      "Epoch: 105/300 Discriminator Loss: 0.4557 Generator Loss: 2.7510\n",
      "Epoch: 106/300 Discriminator Loss: 1.3613 Generator Loss: 2.1475\n",
      "Epoch: 107/300 Discriminator Loss: 0.7300 Generator Loss: 3.1780\n",
      "Epoch: 108/300 Discriminator Loss: 0.9244 Generator Loss: 1.8341\n",
      "Epoch: 109/300 Discriminator Loss: 0.6168 Generator Loss: 3.1567\n",
      "Epoch: 110/300 Discriminator Loss: 0.8679 Generator Loss: 2.6475\n",
      "Epoch: 111/300 Discriminator Loss: 0.7227 Generator Loss: 3.6927\n",
      "Epoch: 112/300 Discriminator Loss: 0.4187 Generator Loss: 4.0854\n",
      "Epoch: 113/300 Discriminator Loss: 0.8945 Generator Loss: 2.7105\n",
      "Epoch: 114/300 Discriminator Loss: 0.6994 Generator Loss: 2.5626\n",
      "Epoch: 115/300 Discriminator Loss: 0.5884 Generator Loss: 3.1388\n",
      "Epoch: 116/300 Discriminator Loss: 0.7473 Generator Loss: 3.3224\n",
      "Epoch: 117/300 Discriminator Loss: 0.8525 Generator Loss: 3.2973\n",
      "Epoch: 118/300 Discriminator Loss: 1.3255 Generator Loss: 2.6131\n",
      "Epoch: 119/300 Discriminator Loss: 0.8154 Generator Loss: 3.1518\n",
      "Epoch: 120/300 Discriminator Loss: 0.5806 Generator Loss: 2.9159\n",
      "Epoch: 121/300 Discriminator Loss: 1.0291 Generator Loss: 2.6417\n",
      "Epoch: 122/300 Discriminator Loss: 1.0318 Generator Loss: 2.1691\n",
      "Epoch: 123/300 Discriminator Loss: 0.8507 Generator Loss: 3.0051\n",
      "Epoch: 124/300 Discriminator Loss: 0.6653 Generator Loss: 2.7733\n",
      "Epoch: 125/300 Discriminator Loss: 0.6826 Generator Loss: 3.3357\n",
      "Epoch: 126/300 Discriminator Loss: 1.2363 Generator Loss: 2.7515\n",
      "Epoch: 127/300 Discriminator Loss: 1.1083 Generator Loss: 3.1271\n"
     ]
    },
    {
     "name": "stdout",
     "output_type": "stream",
     "text": [
      "Epoch: 128/300 Discriminator Loss: 1.0886 Generator Loss: 3.1106\n",
      "Epoch: 129/300 Discriminator Loss: 1.0006 Generator Loss: 2.8308\n",
      "Epoch: 130/300 Discriminator Loss: 0.8845 Generator Loss: 3.2031\n",
      "Epoch: 131/300 Discriminator Loss: 0.6517 Generator Loss: 2.8206\n",
      "Epoch: 132/300 Discriminator Loss: 0.6253 Generator Loss: 3.2675\n",
      "Epoch: 133/300 Discriminator Loss: 0.9813 Generator Loss: 3.4354\n",
      "Epoch: 134/300 Discriminator Loss: 1.5151 Generator Loss: 3.3972\n",
      "Epoch: 135/300 Discriminator Loss: 1.0907 Generator Loss: 3.3566\n",
      "Epoch: 136/300 Discriminator Loss: 0.6916 Generator Loss: 3.3890\n",
      "Epoch: 137/300 Discriminator Loss: 0.7863 Generator Loss: 3.5283\n",
      "Epoch: 138/300 Discriminator Loss: 0.7470 Generator Loss: 2.5019\n",
      "Epoch: 139/300 Discriminator Loss: 1.0654 Generator Loss: 3.1807\n",
      "Epoch: 140/300 Discriminator Loss: 0.6044 Generator Loss: 3.0065\n",
      "Epoch: 141/300 Discriminator Loss: 0.6083 Generator Loss: 2.4837\n",
      "Epoch: 142/300 Discriminator Loss: 1.0535 Generator Loss: 2.5758\n",
      "Epoch: 143/300 Discriminator Loss: 0.9205 Generator Loss: 2.3978\n",
      "Epoch: 144/300 Discriminator Loss: 0.8153 Generator Loss: 2.0956\n",
      "Epoch: 145/300 Discriminator Loss: 0.6495 Generator Loss: 2.4168\n",
      "Epoch: 146/300 Discriminator Loss: 0.4495 Generator Loss: 2.7232\n",
      "Epoch: 147/300 Discriminator Loss: 0.9915 Generator Loss: 2.1962\n",
      "Epoch: 148/300 Discriminator Loss: 0.6968 Generator Loss: 2.5329\n",
      "Epoch: 149/300 Discriminator Loss: 0.8085 Generator Loss: 1.9782\n",
      "Epoch: 150/300 Discriminator Loss: 0.6504 Generator Loss: 2.7397\n",
      "Epoch: 151/300 Discriminator Loss: 0.8195 Generator Loss: 2.3151\n",
      "Epoch: 152/300 Discriminator Loss: 0.8240 Generator Loss: 2.7291\n",
      "Epoch: 153/300 Discriminator Loss: 0.7703 Generator Loss: 2.5044\n",
      "Epoch: 154/300 Discriminator Loss: 0.4996 Generator Loss: 2.3101\n",
      "Epoch: 155/300 Discriminator Loss: 0.6617 Generator Loss: 2.6568\n",
      "Epoch: 156/300 Discriminator Loss: 0.8868 Generator Loss: 2.1400\n",
      "Epoch: 157/300 Discriminator Loss: 0.9999 Generator Loss: 2.1569\n",
      "Epoch: 158/300 Discriminator Loss: 0.8480 Generator Loss: 2.1724\n",
      "Epoch: 159/300 Discriminator Loss: 0.7365 Generator Loss: 1.8371\n",
      "Epoch: 160/300 Discriminator Loss: 0.8031 Generator Loss: 2.6739\n",
      "Epoch: 161/300 Discriminator Loss: 0.4476 Generator Loss: 3.4087\n",
      "Epoch: 162/300 Discriminator Loss: 0.9131 Generator Loss: 3.1454\n",
      "Epoch: 163/300 Discriminator Loss: 0.8173 Generator Loss: 2.1586\n",
      "Epoch: 164/300 Discriminator Loss: 0.8357 Generator Loss: 2.5134\n",
      "Epoch: 165/300 Discriminator Loss: 0.8232 Generator Loss: 2.0519\n",
      "Epoch: 166/300 Discriminator Loss: 0.7011 Generator Loss: 2.7361\n",
      "Epoch: 167/300 Discriminator Loss: 0.8605 Generator Loss: 2.0697\n",
      "Epoch: 168/300 Discriminator Loss: 0.8429 Generator Loss: 2.2454\n",
      "Epoch: 169/300 Discriminator Loss: 0.9867 Generator Loss: 2.0547\n",
      "Epoch: 170/300 Discriminator Loss: 0.7707 Generator Loss: 2.0513\n",
      "Epoch: 171/300 Discriminator Loss: 0.5828 Generator Loss: 2.0770\n",
      "Epoch: 172/300 Discriminator Loss: 0.7438 Generator Loss: 2.0103\n",
      "Epoch: 173/300 Discriminator Loss: 1.0041 Generator Loss: 1.4020\n",
      "Epoch: 174/300 Discriminator Loss: 0.4778 Generator Loss: 2.3403\n",
      "Epoch: 175/300 Discriminator Loss: 0.6655 Generator Loss: 1.6264\n",
      "Epoch: 176/300 Discriminator Loss: 0.5700 Generator Loss: 2.6674\n",
      "Epoch: 177/300 Discriminator Loss: 0.4227 Generator Loss: 2.6795\n",
      "Epoch: 178/300 Discriminator Loss: 0.4946 Generator Loss: 2.8446\n",
      "Epoch: 179/300 Discriminator Loss: 0.6961 Generator Loss: 2.4377\n",
      "Epoch: 180/300 Discriminator Loss: 0.9631 Generator Loss: 1.6747\n",
      "Epoch: 181/300 Discriminator Loss: 0.7970 Generator Loss: 2.2913\n",
      "Epoch: 182/300 Discriminator Loss: 0.8248 Generator Loss: 1.5281\n",
      "Epoch: 183/300 Discriminator Loss: 1.2728 Generator Loss: 1.9947\n",
      "Epoch: 184/300 Discriminator Loss: 0.7352 Generator Loss: 1.9070\n",
      "Epoch: 185/300 Discriminator Loss: 0.6205 Generator Loss: 2.1711\n",
      "Epoch: 186/300 Discriminator Loss: 1.0812 Generator Loss: 1.8561\n",
      "Epoch: 187/300 Discriminator Loss: 0.6252 Generator Loss: 2.5268\n",
      "Epoch: 188/300 Discriminator Loss: 0.5111 Generator Loss: 2.8215\n",
      "Epoch: 189/300 Discriminator Loss: 0.4888 Generator Loss: 2.4855\n",
      "Epoch: 190/300 Discriminator Loss: 0.7362 Generator Loss: 2.5246\n",
      "Epoch: 191/300 Discriminator Loss: 0.9734 Generator Loss: 1.9125\n",
      "Epoch: 192/300 Discriminator Loss: 0.7324 Generator Loss: 2.1510\n",
      "Epoch: 193/300 Discriminator Loss: 1.3502 Generator Loss: 1.7198\n",
      "Epoch: 194/300 Discriminator Loss: 0.8251 Generator Loss: 2.0866\n",
      "Epoch: 195/300 Discriminator Loss: 0.8246 Generator Loss: 2.0108\n",
      "Epoch: 196/300 Discriminator Loss: 0.6551 Generator Loss: 1.9620\n",
      "Epoch: 197/300 Discriminator Loss: 0.6139 Generator Loss: 2.0569\n",
      "Epoch: 198/300 Discriminator Loss: 0.9817 Generator Loss: 1.6696\n",
      "Epoch: 199/300 Discriminator Loss: 0.6716 Generator Loss: 2.2140\n",
      "Epoch: 200/300 Discriminator Loss: 1.0581 Generator Loss: 1.5003\n",
      "Epoch: 201/300 Discriminator Loss: 0.7397 Generator Loss: 1.6894\n",
      "Epoch: 202/300 Discriminator Loss: 0.8167 Generator Loss: 2.0193\n",
      "Epoch: 203/300 Discriminator Loss: 0.7227 Generator Loss: 2.3807\n",
      "Epoch: 204/300 Discriminator Loss: 0.7545 Generator Loss: 2.2754\n",
      "Epoch: 205/300 Discriminator Loss: 1.0656 Generator Loss: 1.8704\n",
      "Epoch: 206/300 Discriminator Loss: 0.7836 Generator Loss: 2.8931\n",
      "Epoch: 207/300 Discriminator Loss: 1.0926 Generator Loss: 1.3065\n",
      "Epoch: 208/300 Discriminator Loss: 1.2037 Generator Loss: 1.7372\n",
      "Epoch: 209/300 Discriminator Loss: 0.5778 Generator Loss: 2.7404\n",
      "Epoch: 210/300 Discriminator Loss: 0.5708 Generator Loss: 2.3393\n",
      "Epoch: 211/300 Discriminator Loss: 0.9894 Generator Loss: 1.6821\n",
      "Epoch: 212/300 Discriminator Loss: 0.9053 Generator Loss: 2.3526\n",
      "Epoch: 213/300 Discriminator Loss: 0.7633 Generator Loss: 2.2396\n",
      "Epoch: 214/300 Discriminator Loss: 0.7997 Generator Loss: 2.0885\n",
      "Epoch: 215/300 Discriminator Loss: 1.2042 Generator Loss: 1.9400\n",
      "Epoch: 216/300 Discriminator Loss: 0.9158 Generator Loss: 2.3691\n",
      "Epoch: 217/300 Discriminator Loss: 0.8373 Generator Loss: 1.7791\n",
      "Epoch: 218/300 Discriminator Loss: 0.7633 Generator Loss: 2.1157\n",
      "Epoch: 219/300 Discriminator Loss: 1.0134 Generator Loss: 1.9633\n",
      "Epoch: 220/300 Discriminator Loss: 1.2895 Generator Loss: 1.5425\n",
      "Epoch: 221/300 Discriminator Loss: 0.8302 Generator Loss: 1.8737\n",
      "Epoch: 222/300 Discriminator Loss: 0.6951 Generator Loss: 2.1387\n",
      "Epoch: 223/300 Discriminator Loss: 1.1915 Generator Loss: 2.3093\n",
      "Epoch: 224/300 Discriminator Loss: 0.6969 Generator Loss: 2.2099\n",
      "Epoch: 225/300 Discriminator Loss: 0.9660 Generator Loss: 1.8250\n",
      "Epoch: 226/300 Discriminator Loss: 0.6321 Generator Loss: 2.6697\n",
      "Epoch: 227/300 Discriminator Loss: 0.7132 Generator Loss: 2.5453\n",
      "Epoch: 228/300 Discriminator Loss: 0.8674 Generator Loss: 1.7042\n",
      "Epoch: 229/300 Discriminator Loss: 0.5560 Generator Loss: 2.2131\n",
      "Epoch: 230/300 Discriminator Loss: 1.1891 Generator Loss: 2.2692\n",
      "Epoch: 231/300 Discriminator Loss: 0.8061 Generator Loss: 1.6917\n",
      "Epoch: 232/300 Discriminator Loss: 0.6448 Generator Loss: 2.0002\n",
      "Epoch: 233/300 Discriminator Loss: 0.8881 Generator Loss: 1.8007\n",
      "Epoch: 234/300 Discriminator Loss: 1.0693 Generator Loss: 1.9692\n",
      "Epoch: 235/300 Discriminator Loss: 1.0226 Generator Loss: 2.1765\n",
      "Epoch: 236/300 Discriminator Loss: 0.6766 Generator Loss: 1.7166\n",
      "Epoch: 237/300 Discriminator Loss: 0.6834 Generator Loss: 2.1981\n",
      "Epoch: 238/300 Discriminator Loss: 0.7044 Generator Loss: 1.9003\n",
      "Epoch: 239/300 Discriminator Loss: 0.7245 Generator Loss: 1.6052\n",
      "Epoch: 240/300 Discriminator Loss: 0.9262 Generator Loss: 2.3025\n",
      "Epoch: 241/300 Discriminator Loss: 0.5187 Generator Loss: 2.7247\n",
      "Epoch: 242/300 Discriminator Loss: 0.6297 Generator Loss: 2.7007\n",
      "Epoch: 243/300 Discriminator Loss: 0.5214 Generator Loss: 2.0216\n",
      "Epoch: 244/300 Discriminator Loss: 0.7703 Generator Loss: 1.8182\n",
      "Epoch: 245/300 Discriminator Loss: 0.7071 Generator Loss: 2.1231\n",
      "Epoch: 246/300 Discriminator Loss: 0.4800 Generator Loss: 2.1958\n",
      "Epoch: 247/300 Discriminator Loss: 0.8262 Generator Loss: 1.6091\n",
      "Epoch: 248/300 Discriminator Loss: 0.7971 Generator Loss: 1.9477\n",
      "Epoch: 249/300 Discriminator Loss: 0.7461 Generator Loss: 1.8583\n",
      "Epoch: 250/300 Discriminator Loss: 0.6995 Generator Loss: 1.7399\n",
      "Epoch: 251/300 Discriminator Loss: 1.1581 Generator Loss: 1.7743\n",
      "Epoch: 252/300 Discriminator Loss: 0.7871 Generator Loss: 2.0446\n",
      "Epoch: 253/300 Discriminator Loss: 0.5702 Generator Loss: 2.2513\n",
      "Epoch: 254/300 Discriminator Loss: 0.8184 Generator Loss: 1.5344\n"
     ]
    },
    {
     "name": "stdout",
     "output_type": "stream",
     "text": [
      "Epoch: 255/300 Discriminator Loss: 0.7963 Generator Loss: 1.9623\n",
      "Epoch: 256/300 Discriminator Loss: 0.7608 Generator Loss: 1.7842\n",
      "Epoch: 257/300 Discriminator Loss: 1.0761 Generator Loss: 1.5330\n",
      "Epoch: 258/300 Discriminator Loss: 0.8938 Generator Loss: 1.3636\n",
      "Epoch: 259/300 Discriminator Loss: 0.8837 Generator Loss: 2.2536\n",
      "Epoch: 260/300 Discriminator Loss: 0.7855 Generator Loss: 1.7674\n",
      "Epoch: 261/300 Discriminator Loss: 0.8007 Generator Loss: 2.5598\n",
      "Epoch: 262/300 Discriminator Loss: 0.8352 Generator Loss: 1.9178\n",
      "Epoch: 263/300 Discriminator Loss: 0.8091 Generator Loss: 1.6916\n",
      "Epoch: 264/300 Discriminator Loss: 0.8094 Generator Loss: 1.9785\n",
      "Epoch: 265/300 Discriminator Loss: 0.8764 Generator Loss: 1.7653\n",
      "Epoch: 266/300 Discriminator Loss: 0.9848 Generator Loss: 1.7073\n",
      "Epoch: 267/300 Discriminator Loss: 1.5129 Generator Loss: 1.9624\n",
      "Epoch: 268/300 Discriminator Loss: 0.5339 Generator Loss: 2.2932\n",
      "Epoch: 269/300 Discriminator Loss: 0.6044 Generator Loss: 2.1340\n",
      "Epoch: 270/300 Discriminator Loss: 0.5326 Generator Loss: 2.0962\n",
      "Epoch: 271/300 Discriminator Loss: 0.7563 Generator Loss: 1.8663\n",
      "Epoch: 272/300 Discriminator Loss: 0.9174 Generator Loss: 2.3540\n",
      "Epoch: 273/300 Discriminator Loss: 0.8950 Generator Loss: 2.0436\n",
      "Epoch: 274/300 Discriminator Loss: 0.7445 Generator Loss: 1.9214\n",
      "Epoch: 275/300 Discriminator Loss: 0.8632 Generator Loss: 1.8760\n",
      "Epoch: 276/300 Discriminator Loss: 0.7957 Generator Loss: 2.5444\n",
      "Epoch: 277/300 Discriminator Loss: 0.6693 Generator Loss: 2.2490\n",
      "Epoch: 278/300 Discriminator Loss: 1.1524 Generator Loss: 1.9869\n",
      "Epoch: 279/300 Discriminator Loss: 1.0073 Generator Loss: 1.9126\n",
      "Epoch: 280/300 Discriminator Loss: 0.6847 Generator Loss: 1.6185\n",
      "Epoch: 281/300 Discriminator Loss: 0.8898 Generator Loss: 1.9383\n",
      "Epoch: 282/300 Discriminator Loss: 1.3830 Generator Loss: 1.3564\n",
      "Epoch: 283/300 Discriminator Loss: 0.8177 Generator Loss: 2.2496\n",
      "Epoch: 284/300 Discriminator Loss: 0.7349 Generator Loss: 1.8555\n",
      "Epoch: 285/300 Discriminator Loss: 0.9267 Generator Loss: 1.8719\n",
      "Epoch: 286/300 Discriminator Loss: 0.6964 Generator Loss: 2.3857\n",
      "Epoch: 287/300 Discriminator Loss: 1.0320 Generator Loss: 1.8134\n",
      "Epoch: 288/300 Discriminator Loss: 0.8324 Generator Loss: 1.9257\n",
      "Epoch: 289/300 Discriminator Loss: 0.6263 Generator Loss: 1.6645\n",
      "Epoch: 290/300 Discriminator Loss: 1.0319 Generator Loss: 1.7274\n",
      "Epoch: 291/300 Discriminator Loss: 0.7410 Generator Loss: 1.7437\n",
      "Epoch: 292/300 Discriminator Loss: 0.6288 Generator Loss: 1.6771\n",
      "Epoch: 293/300 Discriminator Loss: 0.9723 Generator Loss: 1.8642\n",
      "Epoch: 294/300 Discriminator Loss: 0.7690 Generator Loss: 2.5142\n",
      "Epoch: 295/300 Discriminator Loss: 0.9239 Generator Loss: 1.7584\n",
      "Epoch: 296/300 Discriminator Loss: 0.8822 Generator Loss: 2.0215\n",
      "Epoch: 297/300 Discriminator Loss: 1.1906 Generator Loss: 1.8357\n",
      "Epoch: 298/300 Discriminator Loss: 0.7740 Generator Loss: 1.6710\n",
      "Epoch: 299/300 Discriminator Loss: 0.8693 Generator Loss: 2.0167\n",
      "Epoch: 300/300 Discriminator Loss: 1.1817 Generator Loss: 1.8247\n"
     ]
    }
   ],
   "source": [
    "SGAN.fit(X_train_real,X_test_real,batch_size,smooth,eval_size,epochs)"
   ]
  },
  {
   "cell_type": "markdown",
   "metadata": {},
   "source": [
    "Some things to note:\n",
    "\n",
    "1. The learning rate for the generator is lower than that of the discriminator as we want the latter to be trained first. This is reduce the likelihood of instances such as the generator learning how to trick the discriminator into accepting bad answers.\n",
    "\n",
    "2. If the generator loss continues to go down, the generator is fooling the discriminator."
   ]
  },
  {
   "cell_type": "code",
   "execution_count": 10,
   "metadata": {},
   "outputs": [],
   "source": [
    "generator = SGAN.generator()"
   ]
  },
  {
   "cell_type": "code",
   "execution_count": 11,
   "metadata": {},
   "outputs": [
    {
     "data": {
      "image/png": "[encoded data removed]",
      "text/plain": [
       "<matplotlib.figure.Figure at 0x7f1ac0759e80>"
      ]
     },
     "metadata": {},
     "output_type": "display_data"
    }
   ],
   "source": [
    "noise = SGAN.noise (20, sample_size)\n",
    "\n",
    "generated_digits = generator.predict(noise)\n",
    "\n",
    "\n",
    "\n",
    "plt.figure(figsize=(10, 8))\n",
    "for i in range(20):\n",
    "    img = deprocess(generated_digits[i])\n",
    "    plt.subplot(4, 5, i+1)\n",
    "    plt.imshow(img, cmap='gray')\n",
    "    plt.xticks([])\n",
    "    plt.yticks([])\n",
    "plt.tight_layout()\n",
    "plt.show()\n"
   ]
  },
  {
   "cell_type": "markdown",
   "metadata": {},
   "source": [
    "For a simle GAN introduction: https://github.com/naokishibuya/deep-learning/blob/master/python/gan_mnist.ipynb\n",
    "\n",
    "For a mathematical overview: https://lilianweng.github.io/lil-log/2017/08/20/from-GAN-to-WGAN.html\n",
    "\n",
    "For tricks in building and speeding up GAN training: https://github.com/soumith/ganhacks"
   ]
  }
 ],
 "metadata": {
  "kernelspec": {
   "display_name": "Python 3",
   "language": "python",
   "name": "python3"
  },
  "language_info": {
   "codemirror_mode": {
    "name": "ipython",
    "version": 3
   },
   "file_extension": ".py",
   "mimetype": "text/x-python",
   "name": "python",
   "nbconvert_exporter": "python",
   "pygments_lexer": "ipython3",
   "version": "3.6.3"
  }
 },
 "nbformat": 4,
 "nbformat_minor": 2
}
