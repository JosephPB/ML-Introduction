{
 "cells": [
  {
   "cell_type": "markdown",
   "metadata": {},
   "source": [
    "# Shallow Neural Networks"
   ]
  },
  {
   "cell_type": "markdown",
   "metadata": {},
   "source": [
    "## Load in Python modules"
   ]
  },
  {
   "cell_type": "code",
   "execution_count": 4,
   "metadata": {
    "collapsed": true
   },
   "outputs": [],
   "source": [
    "import numpy as np #library for handling arrays with out parallelisation\n",
    "import scipy as sp #scintific library\n",
    "%matplotlib inline\n",
    "import matplotlib #plotting module\n",
    "import IPython\n",
    "import pandas as pd\n",
    "import matplotlib.pyplot as plt\n",
    "import sklearn #basic machine learning library\n",
    "import sklearn.datasets"
   ]
  },
  {
   "cell_type": "markdown",
   "metadata": {},
   "source": [
    "## Data: Two interleaving half circles"
   ]
  },
  {
   "cell_type": "markdown",
   "metadata": {},
   "source": [
    "Neural networks with hidden layers are non-linear and means that they perform well at differentiating between non-linearly separable datasets. To test their capabilities, here we shall generate a randomly distrubted datasets confined within two half-moon shapes (one half-moon for each class)."
   ]
  },
  {
   "cell_type": "code",
   "execution_count": 5,
   "metadata": {
    "collapsed": true
   },
   "outputs": [],
   "source": [
    "np.random.seed(0)\n",
    "X, y = sklearn.datasets.make_moons(200, noise=0.20)"
   ]
  },
  {
   "cell_type": "code",
   "execution_count": 6,
   "metadata": {
    "collapsed": true
   },
   "outputs": [],
   "source": [
    "from sklearn.model_selection import train_test_split\n",
    "X_train, X_test, y_train, y_test = train_test_split(\n",
    "    X, y, random_state=0)"
   ]
  },
  {
   "cell_type": "code",
   "execution_count": 7,
   "metadata": {},
   "outputs": [
    {
     "data": {
      "image/png": "[encoded data removed]",
      "text/plain": [
       "<Figure size 432x288 with 1 Axes>"
      ]
     },
     "metadata": {},
     "output_type": "display_data"
    }
   ],
   "source": [
    "plt.scatter(X[:,0],X[:,1])\n",
    "plt.show()"
   ]
  },
  {
   "cell_type": "markdown",
   "metadata": {},
   "source": [
    "### 1 Hidden Layer"
   ]
  },
  {
   "cell_type": "markdown",
   "metadata": {},
   "source": [
    "Implement a 1 hidden layer SNN with tanh activation function and backpropagation algorithm"
   ]
  },
  {
   "cell_type": "code",
   "execution_count": 8,
   "metadata": {
    "collapsed": true
   },
   "outputs": [],
   "source": [
    "class SNN1:\n",
    "    \n",
    "    def __init__(self,hidden, eta,nepochs,lam):\n",
    "        self.nepochs = nepochs\n",
    "        self.eta = eta\n",
    "        self.lam = lam\n",
    "        self.num_hidden = hidden\n",
    "    \n",
    "    def OneHot(self,y):\n",
    "        hot_mat = np.zeros((len(y), len(np.unique(y))))\n",
    "        for i, val in enumerate(y):\n",
    "            hot_mat[i, val] = 1\n",
    "        return hot_mat\n",
    "    \n",
    "    def softmax(self,z):\n",
    "        return (np.exp(z) / np.sum(np.exp(z), axis=1, keepdims=True))\n",
    "    \n",
    "    def activation(self,z):\n",
    "        return np.tanh(z)\n",
    "    \n",
    "    def fit(self,x,y):\n",
    "        self.num_outcomes = len(np.unique(y))\n",
    "        self.weights_1 = np.random.random((len(x[0]),self.num_hidden))\n",
    "        self.weights_2 = np.random.random((self.num_hidden,self.num_outcomes))\n",
    "        self.bias_1 = np.random.random(self.num_hidden)\n",
    "        self.bias_2 = np.random.random(self.num_outcomes)\n",
    "        \n",
    "        y = self.OneHot(y)\n",
    "        \n",
    "        for i in range(self.nepochs):\n",
    "            \n",
    "            #perform a forward pass\n",
    "            z_1 = x.dot(self.weights_1) + self.bias_1\n",
    "            a_1 = self.activation(z_1)\n",
    "            z_2 = a_1.dot(self.weights_2) + self.bias_2\n",
    "            a_2 = self.softmax(z_2)\n",
    "        \n",
    "            #perform backpropagation\n",
    "            error_output = (a_2 - y)*(1-np.power(a_2,2))\n",
    "            grad_2 = np.dot(a_1.T,error_output)\n",
    "            error_hidden = np.dot(error_output,self.weights_2.T)*(1-np.power(a_1,2))\n",
    "            grad_1 = np.dot(x.T,error_hidden)\n",
    "            \n",
    "            self.weights_2 -= self.eta*(grad_2 + self.lam*self.weights_2)\n",
    "            self.weights_1 -= self.eta*(grad_1 + self.lam*self.weights_1)\n",
    "            self.bias_2 -= self.eta*np.sum(error_output,axis=0)\n",
    "            self.bias_1 -= self.eta*np.sum(error_hidden,axis=0)\n",
    "            \n",
    "        return self\n",
    "    \n",
    "    def predict(self,x):\n",
    "        \n",
    "        #perform a forward pass\n",
    "        z_1 = x.dot(self.weights_1) + self.bias_1\n",
    "        a_1 = self.activation(z_1)\n",
    "        z_2 = a_1.dot(self.weights_2) + self.bias_2\n",
    "        softmax = self.softmax(z_2)\n",
    "        print (softmax)\n",
    "        return softmax.argmax(axis=1)"
   ]
  },
  {
   "cell_type": "markdown",
   "metadata": {},
   "source": [
    "## 2 Hidden Layers"
   ]
  },
  {
   "cell_type": "markdown",
   "metadata": {},
   "source": [
    "Set the initial parameters of the model"
   ]
  },
  {
   "cell_type": "code",
   "execution_count": 9,
   "metadata": {
    "collapsed": true
   },
   "outputs": [],
   "source": [
    "SNN = SNN1(3,0.01,20000,0.01)"
   ]
  },
  {
   "cell_type": "markdown",
   "metadata": {},
   "source": [
    "Fit the model"
   ]
  },
  {
   "cell_type": "code",
   "execution_count": 10,
   "metadata": {},
   "outputs": [
    {
     "data": {
      "text/plain": [
       "<__main__.SNN1 instance at 0x109fe4170>"
      ]
     },
     "execution_count": 10,
     "metadata": {},
     "output_type": "execute_result"
    }
   ],
   "source": [
    "SNN.fit(X_train,y_train)"
   ]
  },
  {
   "cell_type": "markdown",
   "metadata": {},
   "source": [
    "Test the model"
   ]
  },
  {
   "cell_type": "code",
   "execution_count": 11,
   "metadata": {},
   "outputs": [
    {
     "name": "stdout",
     "output_type": "stream",
     "text": [
      "[[9.75315428e-01 2.46845724e-02]\n",
      " [9.75593400e-01 2.44066002e-02]\n",
      " [9.98417204e-01 1.58279577e-03]\n",
      " [9.94119114e-01 5.88088560e-03]\n",
      " [9.93964325e-01 6.03567451e-03]\n",
      " [8.82025680e-17 1.00000000e+00]\n",
      " [8.67150003e-17 1.00000000e+00]\n",
      " [1.23436337e-01 8.76563663e-01]\n",
      " [8.78454604e-17 1.00000000e+00]\n",
      " [9.74202573e-01 2.57974268e-02]\n",
      " [9.94118844e-01 5.88115630e-03]\n",
      " [9.94118990e-01 5.88101014e-03]\n",
      " [1.32753529e-15 1.00000000e+00]\n",
      " [1.15741273e-01 8.84258727e-01]\n",
      " [8.65820042e-17 1.00000000e+00]\n",
      " [1.14816804e-01 8.85183196e-01]\n",
      " [1.16127837e-01 8.83872163e-01]\n",
      " [9.75388149e-01 2.46118514e-02]\n",
      " [3.06738297e-01 6.93261703e-01]\n",
      " [1.16016476e-01 8.83983524e-01]\n",
      " [8.65688989e-17 1.00000000e+00]\n",
      " [9.74700306e-01 2.52996943e-02]\n",
      " [9.99950940e-01 4.90600761e-05]\n",
      " [9.75593302e-01 2.44066982e-02]\n",
      " [1.16098923e-01 8.83901077e-01]\n",
      " [9.75916270e-01 2.40837304e-02]\n",
      " [9.75431737e-01 2.45682628e-02]\n",
      " [9.75600491e-01 2.43995091e-02]\n",
      " [1.16291457e-01 8.83708543e-01]\n",
      " [2.55723036e-16 1.00000000e+00]\n",
      " [9.75593382e-01 2.44066181e-02]\n",
      " [9.75589483e-01 2.44105165e-02]\n",
      " [1.16098108e-01 8.83901892e-01]\n",
      " [9.76808640e-01 2.31913598e-02]\n",
      " [9.75596056e-01 2.44039442e-02]\n",
      " [9.94106516e-01 5.89348402e-03]\n",
      " [8.95912233e-17 1.00000000e+00]\n",
      " [8.93330624e-17 1.00000000e+00]\n",
      " [8.70017097e-17 1.00000000e+00]\n",
      " [9.94059541e-01 5.94045895e-03]\n",
      " [3.39355092e-04 9.99660645e-01]\n",
      " [9.99902947e-01 9.70528567e-05]\n",
      " [8.66593108e-17 1.00000000e+00]\n",
      " [9.93014927e-01 6.98507266e-03]\n",
      " [1.74481121e-17 1.00000000e+00]\n",
      " [9.75432429e-01 2.45675708e-02]\n",
      " [9.75369529e-01 2.46304705e-02]\n",
      " [9.94118490e-01 5.88151011e-03]\n",
      " [1.16084140e-01 8.83915860e-01]\n",
      " [9.94125755e-01 5.87424470e-03]]\n",
      "Accuracy: 0.98\n"
     ]
    }
   ],
   "source": [
    "ypred = SNN.predict(X_test)\n",
    "\n",
    "from sklearn.metrics import accuracy_score\n",
    "print('Accuracy: %.2f' % accuracy_score(y_test, ypred))"
   ]
  },
  {
   "cell_type": "markdown",
   "metadata": {},
   "source": [
    "Plot the model"
   ]
  },
  {
   "cell_type": "code",
   "execution_count": 12,
   "metadata": {
    "collapsed": true
   },
   "outputs": [],
   "source": [
    "from matplotlib.colors import ListedColormap\n",
    "import matplotlib.pyplot as plt\n",
    "\n",
    "def plot_decision_regions(X, y, classifier,\n",
    "                       test_idx=None, resolution=0.02):\n",
    "    # setup marker generator and color map\n",
    "    markers = ('s', 'x', 'o', '^', 'v')\n",
    "    colors = ('red', 'blue', 'lightgreen', 'gray', 'cyan')\n",
    "    cmap = ListedColormap(colors[:len(np.unique(y))])\n",
    "    # plot the decision surface\n",
    "    x1_min, x1_max = X[:, 0].min() - 1, X[:, 0].max() + 1\n",
    "    x2_min, x2_max = X[:, 1].min() - 1, X[:, 1].max() + 1\n",
    "    xx1, xx2 = np.meshgrid(np.arange(x1_min, x1_max, resolution),\n",
    "                            np.arange(x2_min, x2_max, resolution))\n",
    "    Z = classifier.predict(np.array([xx1.ravel(), xx2.ravel()]).T)\n",
    "    Z = Z.reshape(xx1.shape)\n",
    "    plt.contourf(xx1, xx2, Z, alpha=0.4, cmap=cmap)\n",
    "    plt.xlim(xx1.min(), xx1.max())\n",
    "    plt.ylim(xx2.min(), xx2.max())\n",
    "    # plot all samples\n",
    "    X_test, y_test = X[test_idx, :], y[test_idx]\n",
    "    for idx, cl in enumerate(np.unique(y)):\n",
    "        plt.scatter(x=X[y == cl, 0], y=X[y == cl, 1],\n",
    "                       alpha=0.8, c=cmap(idx),\n",
    "                       marker=markers[idx], label=cl)\n",
    "    # highlight test samples\n",
    "    if test_idx:\n",
    "        X_test, y_test = X[test_idx, :], y[test_idx]\n",
    "        plt.scatter(X_test[:, 0], X_test[:, 1], c='',\n",
    "                   alpha=1.0, linewidth=1, marker='o',\n",
    "                   s=55, label='test set')"
   ]
  },
  {
   "cell_type": "code",
   "execution_count": 13,
   "metadata": {},
   "outputs": [
    {
     "name": "stdout",
     "output_type": "stream",
     "text": [
      "[[9.94119152e-01 5.88084758e-03]\n",
      " [9.94119148e-01 5.88085241e-03]\n",
      " [9.94119140e-01 5.88085964e-03]\n",
      " ...\n",
      " [8.65686721e-17 1.00000000e+00]\n",
      " [8.65686721e-17 1.00000000e+00]\n",
      " [8.65686721e-17 1.00000000e+00]]\n"
     ]
    },
    {
     "data": {
      "image/png": "[encoded data removed]",
      "text/plain": [
       "<Figure size 432x288 with 1 Axes>"
      ]
     },
     "metadata": {},
     "output_type": "display_data"
    }
   ],
   "source": [
    "X_combined_std = np.vstack((X_train, X_test))\n",
    "y_combined = np.hstack((y_train, y_test))\n",
    "#plot_decision_regions(X=X_combined_std,y=y_combined,classifier=ppn,test_idx=range(105,150))\n",
    "plot_decision_regions(X=X_combined_std,y=y_combined,classifier=SNN)\n",
    "plt.title(r'1 Hidden Layer Neural Network')\n",
    "plt.legend(loc='upper left')\n",
    "\n",
    "plt.savefig(\"SNN1,3.png\", dpi = 300)"
   ]
  },
  {
   "cell_type": "markdown",
   "metadata": {},
   "source": [
    "### Additional information found here:\n",
    "\n",
    "http://ufldl.stanford.edu/tutorial/supervised/MultiLayerNeuralNetworks/ (for a mathematica overview)\n",
    "\n",
    "http://colah.github.io/posts/2015-08-Backprop/ (for backpropagation calculus)\n",
    "\n",
    "http://cs231n.github.io/optimization-2/ (for more on backpropagation as well as CNNs)"
   ]
  },
  {
   "cell_type": "markdown",
   "metadata": {},
   "source": [
    "## Test on MNIST dataset"
   ]
  },
  {
   "cell_type": "code",
   "execution_count": 10,
   "metadata": {
    "collapsed": true
   },
   "outputs": [],
   "source": [
    "from sklearn.datasets import load_digits\n",
    "digits = load_digits()"
   ]
  },
  {
   "cell_type": "code",
   "execution_count": 11,
   "metadata": {
    "collapsed": true
   },
   "outputs": [],
   "source": [
    "X_MNIST = digits.data\n",
    "y_MNIST = digits.target"
   ]
  },
  {
   "cell_type": "code",
   "execution_count": 12,
   "metadata": {
    "collapsed": true
   },
   "outputs": [],
   "source": [
    "from sklearn.model_selection import train_test_split\n",
    "X_train_M, X_test_M, y_train_M, y_test_M = train_test_split(\n",
    "    X_MNIST, y_MNIST, random_state=0)"
   ]
  },
  {
   "cell_type": "code",
   "execution_count": 13,
   "metadata": {
    "collapsed": true
   },
   "outputs": [],
   "source": [
    "from sklearn.preprocessing import StandardScaler\n",
    "sc = StandardScaler()\n",
    "sc.fit(X_train_M)\n",
    "X_train_M = sc.transform(X_train_M)\n",
    "X_test_M = sc.transform(X_test_M)"
   ]
  },
  {
   "cell_type": "code",
   "execution_count": 14,
   "metadata": {
    "collapsed": true
   },
   "outputs": [],
   "source": [
    "X_train_M = np.array(X_train_M)\n",
    "X_test_M = np.array(X_test_M)\n",
    "y_train_M = np.array(y_train_M)\n",
    "y_test_M = np.array(y_test_M)"
   ]
  },
  {
   "cell_type": "markdown",
   "metadata": {},
   "source": [
    "Increasing the number of hidden units in the layer has increased the accuracy from 0.7 to 0.98"
   ]
  },
  {
   "cell_type": "code",
   "execution_count": 15,
   "metadata": {
    "collapsed": true
   },
   "outputs": [],
   "source": [
    "SNN = SNN1(100,0.01,20000,0.01)"
   ]
  },
  {
   "cell_type": "code",
   "execution_count": 16,
   "metadata": {},
   "outputs": [
    {
     "ename": "KeyboardInterrupt",
     "evalue": "",
     "output_type": "error",
     "traceback": [
      "\u001b[0;31m---------------------------------------------------------------------------\u001b[0m",
      "\u001b[0;31mKeyboardInterrupt\u001b[0m                         Traceback (most recent call last)",
      "\u001b[0;32m<ipython-input-16-6be812bee221>\u001b[0m in \u001b[0;36m<module>\u001b[0;34m()\u001b[0m\n\u001b[0;32m----> 1\u001b[0;31m \u001b[0mSNN\u001b[0m\u001b[0;34m.\u001b[0m\u001b[0mfit\u001b[0m\u001b[0;34m(\u001b[0m\u001b[0mX_train_M\u001b[0m\u001b[0;34m,\u001b[0m\u001b[0my_train_M\u001b[0m\u001b[0;34m)\u001b[0m\u001b[0;34m\u001b[0m\u001b[0m\n\u001b[0m",
      "\u001b[0;32m<ipython-input-4-89aa02097c89>\u001b[0m in \u001b[0;36mfit\u001b[0;34m(self, x, y)\u001b[0m\n\u001b[1;32m     33\u001b[0m             \u001b[0mz_1\u001b[0m \u001b[0;34m=\u001b[0m \u001b[0mx\u001b[0m\u001b[0;34m.\u001b[0m\u001b[0mdot\u001b[0m\u001b[0;34m(\u001b[0m\u001b[0mself\u001b[0m\u001b[0;34m.\u001b[0m\u001b[0mweights_1\u001b[0m\u001b[0;34m)\u001b[0m \u001b[0;34m+\u001b[0m \u001b[0mself\u001b[0m\u001b[0;34m.\u001b[0m\u001b[0mbias_1\u001b[0m\u001b[0;34m\u001b[0m\u001b[0m\n\u001b[1;32m     34\u001b[0m             \u001b[0ma_1\u001b[0m \u001b[0;34m=\u001b[0m \u001b[0mself\u001b[0m\u001b[0;34m.\u001b[0m\u001b[0mactivation\u001b[0m\u001b[0;34m(\u001b[0m\u001b[0mz_1\u001b[0m\u001b[0;34m)\u001b[0m\u001b[0;34m\u001b[0m\u001b[0m\n\u001b[0;32m---> 35\u001b[0;31m             \u001b[0mz_2\u001b[0m \u001b[0;34m=\u001b[0m \u001b[0ma_1\u001b[0m\u001b[0;34m.\u001b[0m\u001b[0mdot\u001b[0m\u001b[0;34m(\u001b[0m\u001b[0mself\u001b[0m\u001b[0;34m.\u001b[0m\u001b[0mweights_2\u001b[0m\u001b[0;34m)\u001b[0m \u001b[0;34m+\u001b[0m \u001b[0mself\u001b[0m\u001b[0;34m.\u001b[0m\u001b[0mbias_2\u001b[0m\u001b[0;34m\u001b[0m\u001b[0m\n\u001b[0m\u001b[1;32m     36\u001b[0m             \u001b[0msoftmax\u001b[0m \u001b[0;34m=\u001b[0m \u001b[0mself\u001b[0m\u001b[0;34m.\u001b[0m\u001b[0msoftmax\u001b[0m\u001b[0;34m(\u001b[0m\u001b[0mz_2\u001b[0m\u001b[0;34m)\u001b[0m\u001b[0;34m\u001b[0m\u001b[0m\n\u001b[1;32m     37\u001b[0m \u001b[0;34m\u001b[0m\u001b[0m\n",
      "\u001b[0;31mKeyboardInterrupt\u001b[0m: "
     ]
    }
   ],
   "source": [
    "SNN.fit(X_train_M,y_train_M)"
   ]
  },
  {
   "cell_type": "code",
   "execution_count": null,
   "metadata": {
    "collapsed": true
   },
   "outputs": [],
   "source": [
    "ypred = SNN.predict(X_test_M)\n",
    "\n",
    "from sklearn.metrics import accuracy_score\n",
    "print('Accuracy: %.2f' % accuracy_score(y_test_M, ypred))"
   ]
  }
 ],
 "metadata": {
  "kernelspec": {
   "display_name": "Python 2",
   "language": "python",
   "name": "python2"
  },
  "language_info": {
   "codemirror_mode": {
    "name": "ipython",
    "version": 2
   },
   "file_extension": ".py",
   "mimetype": "text/x-python",
   "name": "python",
   "nbconvert_exporter": "python",
   "pygments_lexer": "ipython2",
   "version": "2.7.14"
  }
 },
 "nbformat": 4,
 "nbformat_minor": 2
}
