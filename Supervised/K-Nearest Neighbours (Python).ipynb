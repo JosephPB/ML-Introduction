{
 "cells": [
  {
   "cell_type": "markdown",
   "metadata": {},
   "source": [
    "# K-Nearest Neighbours"
   ]
  },
  {
   "cell_type": "markdown",
   "metadata": {},
   "source": [
    "K-Nearest Neighbours (KNN) is a way of classifying data based its proximity to other data in the 'training' dataset. Here *proximity* is defined as the Euclidean distance in paramter space between two data points.\n",
    "\n",
    "This KNN classifies a test data point by averaging over the nearest *N* datapoints in parameter space and rounding to the nearest class."
   ]
  },
  {
   "cell_type": "code",
   "execution_count": 1,
   "metadata": {},
   "outputs": [],
   "source": [
    "import sklearn\n",
    "import numpy as np"
   ]
  },
  {
   "cell_type": "markdown",
   "metadata": {},
   "source": [
    "## Load in dataset"
   ]
  },
  {
   "cell_type": "code",
   "execution_count": 2,
   "metadata": {},
   "outputs": [],
   "source": [
    "from sklearn.datasets import load_iris\n",
    "iris = load_iris()"
   ]
  },
  {
   "cell_type": "code",
   "execution_count": 3,
   "metadata": {},
   "outputs": [
    {
     "data": {
      "text/plain": [
       "['target_names', 'data', 'target', 'DESCR', 'feature_names']"
      ]
     },
     "execution_count": 3,
     "metadata": {},
     "output_type": "execute_result"
    }
   ],
   "source": [
    "iris.keys()"
   ]
  },
  {
   "cell_type": "code",
   "execution_count": 4,
   "metadata": {},
   "outputs": [],
   "source": [
    "X = iris.data[:,[2,3]]\n",
    "y = iris.target"
   ]
  },
  {
   "cell_type": "code",
   "execution_count": 5,
   "metadata": {},
   "outputs": [],
   "source": [
    "from sklearn.model_selection import train_test_split\n",
    "X_train, X_test, y_train, y_test = train_test_split(\n",
    "    X, y, random_state=0)"
   ]
  },
  {
   "cell_type": "markdown",
   "metadata": {},
   "source": [
    "Define an unweighted K Nearest Neighoburs classifier"
   ]
  },
  {
   "cell_type": "code",
   "execution_count": 6,
   "metadata": {},
   "outputs": [],
   "source": [
    "class KNN:\n",
    "    \"\"\"An unweighted K Nearest Neighbours classifier\"\"\"\n",
    "    \n",
    "    def __init__(self,neighbours):\n",
    "        \"\"\"Function takes input of:\n",
    "            neighbours: the user specified number of neighbours \n",
    "            to compare a given point to\"\"\"\n",
    "        self.neighbours = neighbours\n",
    "        \n",
    "    def metric(self,point1,point2):\n",
    "        \"\"\"Euclidean metric\"\"\"\n",
    "        if len(point1) != len(point2):\n",
    "            print(\"Error, points are of different lengths\")\n",
    "        else:\n",
    "            return np.power(np.sum(np.power(point1-point2,2)),0.5)\n",
    "             \n",
    "    def classify(self,xdata,ydata,to_classify):\n",
    "        \"\"\"Classification function\"\"\"\n",
    "        prediction = np.zeros(len(to_classify))\n",
    "        for k in range(len(to_classify)):\n",
    "            distance = np.zeros(len(xdata))\n",
    "            for i in range(len(xdata)):\n",
    "                distance[i] = self.metric(xdata[i],to_classify[k])\n",
    "            \n",
    "            nearest = np.argsort(distance)[:self.neighbours]\n",
    "            nearest_prediction = ydata[nearest]\n",
    "            \n",
    "            prediction[k] = np.around(np.average(nearest_prediction))\n",
    "        \n",
    "        return prediction  "
   ]
  },
  {
   "cell_type": "code",
   "execution_count": 7,
   "metadata": {},
   "outputs": [],
   "source": [
    "KNN = KNN(5)"
   ]
  },
  {
   "cell_type": "code",
   "execution_count": 8,
   "metadata": {},
   "outputs": [
    {
     "name": "stdout",
     "output_type": "stream",
     "text": [
      "Accuracy: 0.97\n"
     ]
    }
   ],
   "source": [
    "y_pred = KNN.classify(X_train,y_train,X_test)\n",
    "\n",
    "from sklearn.metrics import accuracy_score\n",
    "print('Accuracy: %.2f' % accuracy_score(y_test, y_pred))"
   ]
  },
  {
   "cell_type": "markdown",
   "metadata": {},
   "source": [
    "## TODO: Build weighted KNN algorithm"
   ]
  }
 ],
 "metadata": {
  "kernelspec": {
   "display_name": "Python 2",
   "language": "python",
   "name": "python2"
  },
  "language_info": {
   "codemirror_mode": {
    "name": "ipython",
    "version": 2
   },
   "file_extension": ".py",
   "mimetype": "text/x-python",
   "name": "python",
   "nbconvert_exporter": "python",
   "pygments_lexer": "ipython2",
   "version": "2.7.15"
  }
 },
 "nbformat": 4,
 "nbformat_minor": 2
}
