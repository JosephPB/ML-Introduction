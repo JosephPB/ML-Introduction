{
 "cells": [
  {
   "cell_type": "markdown",
   "metadata": {},
   "source": [
    "# Introduction to Machine Learning: The Perceptron"
   ]
  },
  {
   "cell_type": "markdown",
   "metadata": {},
   "source": [
    "The aim of this notebook is to walk you through the procedures for training the most simple machine learning algorithm: the Perceptron. The perceptron works as a single node which has the ability to predict a binary output given some input data. The node is 'trained' through a continuous procedure of prediction, checking with the ground truth, updating the weighing of importance of each input parameter, and then predicting again."
   ]
  },
  {
   "cell_type": "markdown",
   "metadata": {},
   "source": [
    "## Terminology:\n",
    "\n",
    "Perceptron: a sinlge node network producing a binary output\n",
    "\n",
    "Weigths: The weighting each input parameter is given by the network (randomised before training)\n",
    "\n",
    "Activation function: The function the network prediction is given to to select a final output (in the case of a perceptron we use a step function)\n",
    "\n",
    "Loss/ cost function: A way of calculating 'how far away' from the ground truth the final prediction of the network is (usually either a least squares or cross-entropy function is used)\n",
    "\n",
    "Gradient decent: The process of taking the first derivative of the cost function to minimise it and update the weights\n",
    "\n",
    "Learning rate: How much the first derivative of the cost function contibutes to the updating of the weights. A faster learning rate means that each gradient decent contributes more to the weight updating (which can speed up the learning but can also prodcue overfitting)\n",
    "\n",
    "Epoch: the number of times the entire training set is used for training\n",
    "\n",
    "Batch size: the number of training examples given at once to the network to perform gradient decent on\n",
    "\n",
    "Stochastic gradient decent: Gradient decent on a batch size of 1"
   ]
  },
  {
   "cell_type": "markdown",
   "metadata": {},
   "source": [
    "## Load in Python modules"
   ]
  },
  {
   "cell_type": "code",
   "execution_count": 2,
   "metadata": {},
   "outputs": [],
   "source": [
    "import numpy as np\n",
    "import scipy as sp\n",
    "%matplotlib inline\n",
    "import matplotlib\n",
    "import IPython\n",
    "import pandas as pd\n",
    "import matplotlib.pyplot as plt\n",
    "import sklearn"
   ]
  },
  {
   "cell_type": "markdown",
   "metadata": {},
   "source": [
    "# Iris dataset"
   ]
  },
  {
   "cell_type": "markdown",
   "metadata": {},
   "source": [
    "The Iris dataset is a famous dataset used in Machine Learning and contains 150 elements. Each elements is a different kind of Iris flower, either setosa, versicolo or virgininca. The dataset was made by Sir R.A. Fisher in 1936, in which he recorded 4 attributes about 150 different flowers, across the 3 different types, to see if one could differentiate between the types based on the data."
   ]
  },
  {
   "cell_type": "markdown",
   "metadata": {},
   "source": [
    "## The data"
   ]
  },
  {
   "cell_type": "markdown",
   "metadata": {},
   "source": [
    "First we must load in the Iris dataset. Conveniently, the dataset is in the standard library of nicely processed datasets contained in the module 'sklearn', which is a simple, and commonly used machine learning Python module."
   ]
  },
  {
   "cell_type": "code",
   "execution_count": 7,
   "metadata": {
    "collapsed": true
   },
   "outputs": [],
   "source": [
    "from sklearn.datasets import load_iris\n",
    "iris = load_iris()"
   ]
  },
  {
   "cell_type": "code",
   "execution_count": 9,
   "metadata": {},
   "outputs": [
    {
     "name": "stdout",
     "output_type": "stream",
     "text": [
      "['target_names', 'data', 'target', 'DESCR', 'feature_names']\n"
     ]
    }
   ],
   "source": [
    "print (iris.keys()) #these are different classes which can be called using a modular format"
   ]
  },
  {
   "cell_type": "code",
   "execution_count": 10,
   "metadata": {},
   "outputs": [
    {
     "name": "stdout",
     "output_type": "stream",
     "text": [
      "['setosa' 'versicolor' 'virginica']\n"
     ]
    }
   ],
   "source": [
    "print (iris.target_names)"
   ]
  },
  {
   "cell_type": "markdown",
   "metadata": {},
   "source": [
    "For simplicity we shall only keep only the first 2 variables and data with y-values equal to 0 and 1, where the possible y-values are 0,1,2 for the whole dataset."
   ]
  },
  {
   "cell_type": "markdown",
   "metadata": {},
   "source": [
    "This will allow us to plot a 2D graph of our results"
   ]
  },
  {
   "cell_type": "code",
   "execution_count": 15,
   "metadata": {},
   "outputs": [],
   "source": [
    "X = iris.data[:,[2,3]]\n",
    "y = iris.target\n",
    "T = []\n",
    "u = []\n",
    "\n",
    "#here we keep only the elements that have a label of 0 or 1\n",
    "for i in range(0,len(y)):\n",
    "    if y[i] == 0 or y[i] == 1:\n",
    "        T.append(X[i])\n",
    "        u.append(y[i])"
   ]
  },
  {
   "cell_type": "markdown",
   "metadata": {},
   "source": [
    "When testing a network we want to ensure that it is not being tested on information it has been trained on (or 'seen' before). Therefore, we split our daya into training and testing sets."
   ]
  },
  {
   "cell_type": "code",
   "execution_count": 16,
   "metadata": {
    "collapsed": true
   },
   "outputs": [],
   "source": [
    "## sklearn has a function for slitting the sets into X_train, X_test, y_train, y_test\n",
    "from sklearn.model_selection import train_test_split\n",
    "X_train, X_test, y_train, y_test = train_test_split(\n",
    "    T, u, random_state=0)"
   ]
  },
  {
   "cell_type": "markdown",
   "metadata": {},
   "source": [
    "We then normalise the data to ensure a fair comparison between different parameters"
   ]
  },
  {
   "cell_type": "code",
   "execution_count": 17,
   "metadata": {
    "collapsed": true
   },
   "outputs": [],
   "source": [
    "# again, sklearn has an inbuild function for normalising data\n",
    "from sklearn.preprocessing import StandardScaler\n",
    "sc = StandardScaler()\n",
    "sc.fit(X_train)\n",
    "X_train = sc.transform(X_train)\n",
    "X_test = sc.transform(X_test)"
   ]
  },
  {
   "cell_type": "markdown",
   "metadata": {},
   "source": [
    "## Linear regression Perceptron"
   ]
  },
  {
   "cell_type": "markdown",
   "metadata": {},
   "source": [
    "Define the Perceptron with a step function activation function"
   ]
  },
  {
   "cell_type": "markdown",
   "metadata": {},
   "source": [
    "Here we will use a batch size of 1 for simplicity"
   ]
  },
  {
   "cell_type": "code",
   "execution_count": 57,
   "metadata": {},
   "outputs": [],
   "source": [
    "class LinearPerceptron:\n",
    "    def __init__(self,eta,nepochs):\n",
    "        self.eta = eta #learning rate\n",
    "        self.nepochs = nepochs #number of epochs\n",
    "        \n",
    "    def weighted_sum(self,xdata,index):\n",
    "        '''weighted sum of weights and parameters'''\n",
    "        return np.dot(self.weights[1:],xdata[index]) + self.weights[0]\n",
    "    \n",
    "    def activation(self,output):\n",
    "        ''' activation function (step function here)'''\n",
    "        if output >= 0:\n",
    "            return 1\n",
    "        else:\n",
    "            return 0\n",
    "    \n",
    "    def fit(self,xtrain,ytrain):\n",
    "        '''train the network'''\n",
    "        #initialise the weights to random values\n",
    "        self.weights = np.random.rand(len(xtrain[0])+1)\n",
    "        \n",
    "        #loop over the number of epochs stated\n",
    "        for j in range(self.nepochs):\n",
    "            \n",
    "            #loop over each training example individually\n",
    "            for i in range(len(xtrain)):\n",
    "\n",
    "                w_sum = self.weighted_sum(xtrain,i)\n",
    "                ypred = self.activation(w_sum)\n",
    "                    \n",
    "                # update the weights\n",
    "                self.weights[0] += self.eta*(ytrain[i] - ypred)\n",
    "                self.weights[1:] += self.eta*(ytrain[i] - ypred)*xtrain[i]\n",
    "        return self\n",
    "    \n",
    "    def predict(self,xtest):\n",
    "        ypred = np.zeros((len(xtest)))\n",
    "        for i in range(len(xtest)):\n",
    "            if self.weighted_sum(xtest,i) >= 0:\n",
    "                ypred[i] = 1\n",
    "        return ypred"
   ]
  },
  {
   "cell_type": "markdown",
   "metadata": {},
   "source": [
    "Set the initial parameters of the model"
   ]
  },
  {
   "cell_type": "code",
   "execution_count": 63,
   "metadata": {
    "collapsed": true
   },
   "outputs": [],
   "source": [
    "ppn = LinearPerceptron(eta = 0.1, nepochs = 40)"
   ]
  },
  {
   "cell_type": "markdown",
   "metadata": {},
   "source": [
    "Fit the model"
   ]
  },
  {
   "cell_type": "code",
   "execution_count": 64,
   "metadata": {},
   "outputs": [
    {
     "data": {
      "text/plain": [
       "<__main__.LinearPerceptron instance at 0x1080981b8>"
      ]
     },
     "execution_count": 64,
     "metadata": {},
     "output_type": "execute_result"
    }
   ],
   "source": [
    "ppn.fit(X_train,y_train)"
   ]
  },
  {
   "cell_type": "markdown",
   "metadata": {},
   "source": [
    "Test the model"
   ]
  },
  {
   "cell_type": "code",
   "execution_count": 65,
   "metadata": {},
   "outputs": [
    {
     "name": "stdout",
     "output_type": "stream",
     "text": [
      "Accuracy: 0.96\n"
     ]
    }
   ],
   "source": [
    "y_pred = ppn.predict(X_test)\n",
    "\n",
    "from sklearn.metrics import accuracy_score\n",
    "print('Accuracy: %.2f' % accuracy_score(y_test, y_pred))"
   ]
  },
  {
   "cell_type": "markdown",
   "metadata": {},
   "source": [
    "Plot the model"
   ]
  },
  {
   "cell_type": "code",
   "execution_count": 66,
   "metadata": {
    "collapsed": true
   },
   "outputs": [],
   "source": [
    "from matplotlib.colors import ListedColormap\n",
    "import matplotlib.pyplot as plt\n",
    "\n",
    "def plot_decision_regions(X, y, classifier,\n",
    "                       test_idx=None, resolution=0.02):\n",
    "    # setup marker generator and color map\n",
    "    markers = ('s', 'x', 'o', '^', 'v')\n",
    "    colors = ('red', 'blue', 'lightgreen', 'gray', 'cyan')\n",
    "    cmap = ListedColormap(colors[:len(np.unique(y))])\n",
    "    # plot the decision surface\n",
    "    x1_min, x1_max = X[:, 0].min() - 1, X[:, 0].max() + 1\n",
    "    x2_min, x2_max = X[:, 1].min() - 1, X[:, 1].max() + 1\n",
    "    xx1, xx2 = np.meshgrid(np.arange(x1_min, x1_max, resolution),\n",
    "                            np.arange(x2_min, x2_max, resolution))\n",
    "    Z = classifier.predict(np.array([xx1.ravel(), xx2.ravel()]).T)\n",
    "    Z = Z.reshape(xx1.shape)\n",
    "    plt.contourf(xx1, xx2, Z, alpha=0.4, cmap=cmap)\n",
    "    plt.xlim(xx1.min(), xx1.max())\n",
    "    plt.ylim(xx2.min(), xx2.max())\n",
    "    # plot all samples\n",
    "    X_test, y_test = X[test_idx, :], y[test_idx]\n",
    "    for idx, cl in enumerate(np.unique(y)):\n",
    "        plt.scatter(x=X[y == cl, 0], y=X[y == cl, 1],\n",
    "                       alpha=0.8, c=cmap(idx),\n",
    "                       marker=markers[idx], label=cl)\n",
    "    # highlight test samples\n",
    "    if test_idx:\n",
    "        X_test, y_test = X[test_idx, :], y[test_idx]\n",
    "        plt.scatter(X_test[:, 0], X_test[:, 1], c='',\n",
    "                   alpha=1.0, linewidth=1, marker='o',\n",
    "                   s=55, label='test set')"
   ]
  },
  {
   "cell_type": "code",
   "execution_count": 67,
   "metadata": {},
   "outputs": [
    {
     "data": {
      "image/png": "[encoded data removed]",
      "text/plain": [
       "<Figure size 432x288 with 1 Axes>"
      ]
     },
     "metadata": {},
     "output_type": "display_data"
    }
   ],
   "source": [
    "X_combined_std = np.vstack((X_train, X_test))\n",
    "y_combined = np.hstack((y_train, y_test))\n",
    "#plot_decision_regions(X=X_combined_std,y=y_combined,classifier=ppn,test_idx=range(105,150))\n",
    "plot_decision_regions(X=X_combined_std,y=y_combined,classifier=ppn)\n",
    "plt.title(r'Linear regression Perceptron')\n",
    "plt.xlabel(r'petal length (cm)')\n",
    "plt.ylabel('petal width (cm)')\n",
    "plt.legend(loc='upper left')\n",
    "\n",
    "plt.savefig(\"LinearPerceptron.png\", dpi = 300)"
   ]
  }
 ],
 "metadata": {
  "kernelspec": {
   "display_name": "Python 2",
   "language": "python",
   "name": "python2"
  },
  "language_info": {
   "codemirror_mode": {
    "name": "ipython",
    "version": 2
   },
   "file_extension": ".py",
   "mimetype": "text/x-python",
   "name": "python",
   "nbconvert_exporter": "python",
   "pygments_lexer": "ipython2",
   "version": "2.7.14"
  }
 },
 "nbformat": 4,
 "nbformat_minor": 2
}
