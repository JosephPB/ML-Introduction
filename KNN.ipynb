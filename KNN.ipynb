{
 "cells": [
  {
   "cell_type": "code",
   "execution_count": 3,
   "metadata": {},
   "outputs": [],
   "source": [
    "import sklearn\n",
    "import numpy as np"
   ]
  },
  {
   "cell_type": "code",
   "execution_count": 4,
   "metadata": {},
   "outputs": [],
   "source": [
    "from sklearn.datasets import load_iris\n",
    "iris = load_iris()"
   ]
  },
  {
   "cell_type": "code",
   "execution_count": 5,
   "metadata": {},
   "outputs": [
    {
     "data": {
      "text/plain": [
       "dict_keys(['data', 'target', 'target_names', 'DESCR', 'feature_names'])"
      ]
     },
     "execution_count": 5,
     "metadata": {},
     "output_type": "execute_result"
    }
   ],
   "source": [
    "iris.keys()"
   ]
  },
  {
   "cell_type": "code",
   "execution_count": 6,
   "metadata": {},
   "outputs": [],
   "source": [
    "X = iris.data[:,[2,3]]\n",
    "y = iris.target"
   ]
  },
  {
   "cell_type": "code",
   "execution_count": 7,
   "metadata": {},
   "outputs": [],
   "source": [
    "from sklearn.model_selection import train_test_split\n",
    "X_train, X_test, y_train, y_test = train_test_split(\n",
    "    X, y, random_state=0)"
   ]
  },
  {
   "cell_type": "markdown",
   "metadata": {},
   "source": [
    "Define an unweighted K Nearest Neighoburs classifier"
   ]
  },
  {
   "cell_type": "code",
   "execution_count": 121,
   "metadata": {},
   "outputs": [],
   "source": [
    "class KNN:\n",
    "    \"\"\"An unweighted K Nearest Neighbours classifier\"\"\"\n",
    "    \n",
    "    def __init__(self,neighbours):\n",
    "        \"\"\"Function takes input of:\n",
    "            neighbours: the user specified number of neighbours \n",
    "            to compare a given point to\"\"\"\n",
    "        self.neighbours = neighbours\n",
    "        \n",
    "    def metric(self,point1,point2):\n",
    "        \"\"\"Euclidean metric\"\"\"\n",
    "        if len(point1) != len(point2):\n",
    "            print(\"Error, points are of different lengths\")\n",
    "        else:\n",
    "            return np.power(np.sum(np.power(point1-point2,2)),0.5)\n",
    "             \n",
    "    def classify(self,xdata,ydata,to_classify):\n",
    "        \"\"\"Classification function\"\"\"\n",
    "        prediction = np.zeros(len(to_classify))\n",
    "        for k in range(len(to_classify)):\n",
    "            distance = np.zeros(len(xdata))\n",
    "            for i in range(len(xdata)):\n",
    "                distance[i] = self.metric(xdata[i],to_classify[k])\n",
    "            \n",
    "            nearest = np.argsort(distance)[:self.neighbours]\n",
    "            nearest_prediction = ydata[nearest]\n",
    "            \n",
    "            prediction[k] = np.around(np.average(nearest_prediction))\n",
    "        \n",
    "        return prediction  "
   ]
  },
  {
   "cell_type": "code",
   "execution_count": 122,
   "metadata": {},
   "outputs": [],
   "source": [
    "KNN = KNN(5)"
   ]
  },
  {
   "cell_type": "code",
   "execution_count": 123,
   "metadata": {},
   "outputs": [
    {
     "name": "stdout",
     "output_type": "stream",
     "text": [
      "Accuracy: 0.97\n"
     ]
    }
   ],
   "source": [
    "y_pred = KNN.classify(X_train,y_train,X_test)\n",
    "\n",
    "from sklearn.metrics import accuracy_score\n",
    "print('Accuracy: %.2f' % accuracy_score(y_test, y_pred))"
   ]
  },
  {
   "cell_type": "markdown",
   "metadata": {},
   "source": [
    "Define a weighted K Nearest Neighbours classifier"
   ]
  },
  {
   "cell_type": "code",
   "execution_count": 233,
   "metadata": {},
   "outputs": [],
   "source": [
    "class WKNN:\n",
    "    \"\"\"An unweighted K Nearest Neighbours classifier\"\"\"\n",
    "    \n",
    "    def __init__(self,neighbours):\n",
    "        \"\"\"Function takes input of:\n",
    "            neighbours: the user specified number of neighbours \n",
    "            to compare a given point to\"\"\"\n",
    "        self.neighbours = neighbours\n",
    "        \n",
    "    def metric(self,point1,point2):\n",
    "        \"\"\"Euclidean metric\"\"\"\n",
    "        if len(point1) != len(point2):\n",
    "            print(\"Error, points are of different lengths\")\n",
    "        else:\n",
    "            return np.power(np.sum(np.power(point1-point2,2)),0.5)\n",
    "             \n",
    "    def classify(self,xdata,ydata,to_classify):\n",
    "        \"\"\"Classification function\"\"\"\n",
    "        prediction = np.zeros(len(to_classify))\n",
    "        for k in range(len(to_classify)):\n",
    "            distance = np.zeros(len(xdata))\n",
    "            for i in range(len(xdata)):\n",
    "                distance[i] = self.metric(xdata[i],to_classify[k])\n",
    "            \n",
    "            nearest = np.argsort(distance)[:self.neighbours]\n",
    "            weighted_prediction = (ydata[nearest]/distance[nearest]) ##fis this problem\n",
    "            #prediction[k] = np.around(np.average(nearest_prediction))\n",
    "        \n",
    "        return 0#prediction  "
   ]
  },
  {
   "cell_type": "code",
   "execution_count": 234,
   "metadata": {},
   "outputs": [],
   "source": [
    "WKNN = WKNN(3)"
   ]
  },
  {
   "cell_type": "code",
   "execution_count": 235,
   "metadata": {},
   "outputs": [
    {
     "name": "stderr",
     "output_type": "stream",
     "text": [
      "/usr/lib/python3.6/site-packages/ipykernel_launcher.py:26: RuntimeWarning: invalid value encountered in true_divide\n",
      "/usr/lib/python3.6/site-packages/ipykernel_launcher.py:26: RuntimeWarning: divide by zero encountered in true_divide\n"
     ]
    }
   ],
   "source": [
    "y_pred = WKNN.classify(X_train,y_train,X_test)\n",
    "\n",
    "#from sklearn.metrics import accuracy_score\n",
    "#print('Accuracy: %.2f' % accuracy_score(y_test, y_pred))"
   ]
  },
  {
   "cell_type": "code",
   "execution_count": 130,
   "metadata": {},
   "outputs": [
    {
     "data": {
      "text/plain": [
       "array([ 1,  6, 12, 20, 30])"
      ]
     },
     "execution_count": 130,
     "metadata": {},
     "output_type": "execute_result"
    }
   ],
   "source": [
    "x = np.array([1,4,3,5,2])\n",
    "y = np.array([1,5,4,6,3])\n",
    "sort = np.argsort(x)\n",
    "x[sort]*y[sort]"
   ]
  },
  {
   "cell_type": "code",
   "execution_count": null,
   "metadata": {},
   "outputs": [],
   "source": []
  },
  {
   "cell_type": "code",
   "execution_count": null,
   "metadata": {},
   "outputs": [],
   "source": []
  }
 ],
 "metadata": {
  "kernelspec": {
   "display_name": "Python 3",
   "language": "python",
   "name": "python3"
  },
  "language_info": {
   "codemirror_mode": {
    "name": "ipython",
    "version": 3
   },
   "file_extension": ".py",
   "mimetype": "text/x-python",
   "name": "python",
   "nbconvert_exporter": "python",
   "pygments_lexer": "ipython3",
   "version": "3.6.3"
  }
 },
 "nbformat": 4,
 "nbformat_minor": 2
}
