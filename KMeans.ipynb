{
 "cells": [
  {
   "cell_type": "code",
   "execution_count": 1,
   "metadata": {},
   "outputs": [],
   "source": [
    "import numpy as np\n",
    "import sklearn\n",
    "import matplotlib.pyplot as plt\n",
    "from random import randint"
   ]
  },
  {
   "cell_type": "markdown",
   "metadata": {},
   "source": [
    "# K Means Classification"
   ]
  },
  {
   "cell_type": "markdown",
   "metadata": {},
   "source": [
    "Load in the data"
   ]
  },
  {
   "cell_type": "code",
   "execution_count": 2,
   "metadata": {},
   "outputs": [],
   "source": [
    "from sklearn.datasets import load_iris"
   ]
  },
  {
   "cell_type": "code",
   "execution_count": 3,
   "metadata": {},
   "outputs": [],
   "source": [
    "iris = load_iris()"
   ]
  },
  {
   "cell_type": "code",
   "execution_count": 4,
   "metadata": {},
   "outputs": [
    {
     "data": {
      "text/plain": [
       "dict_keys(['data', 'target', 'target_names', 'DESCR', 'feature_names'])"
      ]
     },
     "execution_count": 4,
     "metadata": {},
     "output_type": "execute_result"
    }
   ],
   "source": [
    "iris.keys()"
   ]
  },
  {
   "cell_type": "code",
   "execution_count": 13,
   "metadata": {},
   "outputs": [],
   "source": [
    "X = iris.data[:,:2]\n",
    "y = iris.target\n",
    "T = []\n",
    "u = []\n",
    "for i in range(len(X)):\n",
    "    if y[i] == 0 or y[i] == 1:\n",
    "        T.append(X[i])\n",
    "        u.append(y[i])"
   ]
  },
  {
   "cell_type": "markdown",
   "metadata": {},
   "source": [
    "Plot the data"
   ]
  },
  {
   "cell_type": "code",
   "execution_count": 6,
   "metadata": {},
   "outputs": [
    {
     "data": {
      "image/png": "[encoded data removed]",
      "text/plain": [
       "<matplotlib.figure.Figure at 0x7f80e5207a90>"
      ]
     },
     "metadata": {},
     "output_type": "display_data"
    }
   ],
   "source": [
    "class1 = X[y==0]\n",
    "class2 = X[y==1]\n",
    "class3 = X[y==2]\n",
    "plt.scatter(class1[:,0],class1[:,1], color = 'red')\n",
    "plt.scatter(class2[:,0],class2[:,1], color = 'green')\n",
    "plt.show()"
   ]
  },
  {
   "cell_type": "markdown",
   "metadata": {},
   "source": [
    "Define the K Means class"
   ]
  },
  {
   "cell_type": "code",
   "execution_count": 7,
   "metadata": {},
   "outputs": [],
   "source": [
    "class KMeans:\n",
    "    def __init__(self,num_classes,num_epochs):\n",
    "        self.num_classes = num_classes\n",
    "        self.num_epochs = num_epochs\n",
    "        \n",
    "    def metric(self,point1,point2):\n",
    "        \"\"\"Euclidean metric\"\"\"\n",
    "        if len(point1) != len(point2):\n",
    "            print(\"Error, points are of different lengths\")\n",
    "            quit()\n",
    "        else:\n",
    "            return np.power(np.sum(np.power(point1-point2,2)),0.5)\n",
    "        \n",
    "    def cluster(self,xdata,cluster_points):\n",
    "        \"\"\"Clusters data points to nearest cluster points\"\"\"\n",
    "        clusters = np.zeros(len(xdata))\n",
    "        for k in range(len(xdata)):\n",
    "            distance = np.zeros(len(cluster_points))\n",
    "            for i in range(len(cluster_points)):\n",
    "                distance[i] = self.metric(xdata[k],cluster_points[i])\n",
    "            \n",
    "            clusters[k] = np.where(distance == np.min(distance))[0][0]\n",
    "        \n",
    "        return clusters \n",
    "    \n",
    "    def fit(self,xdata):\n",
    "        \"\"\"Fits the data by assiging a classification to each point over the number of specified epochs\"\"\"\n",
    "        cluster_points = np.zeros((self.num_classes,len(xdata[0])))\n",
    "        #randomly classify each data point based on user specified num_classes\n",
    "        classification = np.zeros(len(xdata))\n",
    "        for i in range(len(classification)):\n",
    "            classification[i] = randint(0,self.num_classes-1)\n",
    "        #print (classification)\n",
    "        #loop over all epochs\n",
    "        for k in range(self.num_epochs):\n",
    "            #loop over all clustering points to update them\n",
    "            for i in range(len(cluster_points)):\n",
    "                cluster_points[i] = np.zeros(len(xdata[0])) \n",
    "                count = 0 \n",
    "                #loop over all classifications\n",
    "                for j in range(len(classification)):\n",
    "                    if i == classification[j]:\n",
    "                        cluster_points[i] += xdata[j]\n",
    "                        count += 1\n",
    "                if count != 0:\n",
    "                    cluster_points[i] = cluster_points[i] / count\n",
    "                else:\n",
    "                    cluster_points[i] = np.random.random(len(xdata[0]))\n",
    "            classification = self.cluster(xdata,cluster_points)\n",
    "        \n",
    "        return classification"
   ]
  },
  {
   "cell_type": "markdown",
   "metadata": {},
   "source": [
    "## Test the model"
   ]
  },
  {
   "cell_type": "markdown",
   "metadata": {},
   "source": [
    "### Non-overlapping data"
   ]
  },
  {
   "cell_type": "code",
   "execution_count": 8,
   "metadata": {},
   "outputs": [],
   "source": [
    "KM = KMeans(2,100)"
   ]
  },
  {
   "cell_type": "code",
   "execution_count": 9,
   "metadata": {},
   "outputs": [
    {
     "name": "stdout",
     "output_type": "stream",
     "text": [
      "[1. 1. 1. 1. 1. 1. 1. 1. 1. 1. 1. 1. 1. 1. 1. 1. 1. 1. 1. 1. 1. 1. 1. 1.\n",
      " 1. 1. 1. 1. 1. 1. 1. 1. 1. 1. 1. 1. 1. 1. 1. 1. 1. 1. 1. 1. 1. 1. 1. 1.\n",
      " 1. 1. 0. 0. 0. 0. 0. 0. 0. 1. 0. 1. 1. 0. 0. 0. 0. 0. 0. 0. 0. 0. 0. 0.\n",
      " 0. 0. 0. 0. 0. 0. 0. 0. 0. 0. 0. 0. 1. 0. 0. 0. 0. 0. 0. 0. 0. 1. 0. 0.\n",
      " 0. 0. 1. 0.]\n"
     ]
    }
   ],
   "source": [
    "classification = KM.fit(T)\n",
    "print (classification)"
   ]
  },
  {
   "cell_type": "markdown",
   "metadata": {},
   "source": [
    "This method struggles with elliptically shaped datasets"
   ]
  },
  {
   "cell_type": "markdown",
   "metadata": {},
   "source": [
    "### Overlapping data"
   ]
  },
  {
   "cell_type": "code",
   "execution_count": 14,
   "metadata": {},
   "outputs": [],
   "source": [
    "KM2 = KMeans(3,100)"
   ]
  },
  {
   "cell_type": "code",
   "execution_count": 15,
   "metadata": {},
   "outputs": [
    {
     "name": "stdout",
     "output_type": "stream",
     "text": [
      "[1. 1. 1. 1. 1. 1. 1. 1. 1. 1. 1. 1. 1. 1. 1. 1. 1. 1. 1. 1. 1. 1. 1. 1.\n",
      " 1. 1. 1. 1. 1. 1. 1. 1. 1. 1. 1. 1. 1. 1. 1. 1. 1. 1. 1. 1. 1. 1. 1. 1.\n",
      " 1. 1. 2. 2. 2. 0. 2. 0. 2. 0. 2. 0. 0. 0. 0. 0. 0. 2. 0. 0. 0. 0. 0. 0.\n",
      " 0. 0. 2. 2. 2. 2. 0. 0. 0. 0. 0. 0. 0. 0. 2. 0. 0. 0. 0. 0. 0. 0. 0. 0.\n",
      " 0. 0. 0. 0. 2. 0. 2. 0. 2. 2. 1. 2. 2. 2. 2. 2. 2. 0. 0. 2. 2. 2. 2. 0.\n",
      " 2. 0. 2. 0. 2. 2. 0. 0. 2. 2. 2. 2. 2. 0. 0. 2. 2. 2. 0. 2. 2. 2. 0. 2.\n",
      " 2. 2. 0. 2. 2. 0.]\n"
     ]
    }
   ],
   "source": [
    "classification = KM2.fit(X)\n",
    "print (classification)"
   ]
  },
  {
   "cell_type": "markdown",
   "metadata": {},
   "source": [
    "The overlapping patters in the data make it hard for the algorithm to cluster effectively between the type '0' and '1' data points"
   ]
  },
  {
   "cell_type": "code",
   "execution_count": null,
   "metadata": {},
   "outputs": [],
   "source": []
  }
 ],
 "metadata": {
  "kernelspec": {
   "display_name": "Python 3",
   "language": "python",
   "name": "python3"
  },
  "language_info": {
   "codemirror_mode": {
    "name": "ipython",
    "version": 3
   },
   "file_extension": ".py",
   "mimetype": "text/x-python",
   "name": "python",
   "nbconvert_exporter": "python",
   "pygments_lexer": "ipython3",
   "version": "3.6.3"
  }
 },
 "nbformat": 4,
 "nbformat_minor": 2
}
