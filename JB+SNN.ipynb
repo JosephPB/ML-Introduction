{
 "cells": [
  {
   "cell_type": "code",
   "execution_count": 1,
   "metadata": {},
   "outputs": [],
   "source": [
    "import numpy as np\n",
    "import scipy as sp\n",
    "%matplotlib inline\n",
    "import matplotlib\n",
    "import IPython\n",
    "import pandas as pd\n",
    "import matplotlib.pyplot as plt\n",
    "import sklearn\n",
    "import sklearn.datasets"
   ]
  },
  {
   "cell_type": "markdown",
   "metadata": {},
   "source": [
    "# Supervised Neutal Net"
   ]
  },
  {
   "cell_type": "markdown",
   "metadata": {},
   "source": [
    "## Two interleaving half circles"
   ]
  },
  {
   "cell_type": "markdown",
   "metadata": {},
   "source": [
    "Generate the data"
   ]
  },
  {
   "cell_type": "code",
   "execution_count": 2,
   "metadata": {},
   "outputs": [],
   "source": [
    "# Generate a dataset and plot it\n",
    "np.random.seed(0)\n",
    "X, y = sklearn.datasets.make_moons(200, noise=0.20)"
   ]
  },
  {
   "cell_type": "code",
   "execution_count": 3,
   "metadata": {},
   "outputs": [],
   "source": [
    "from sklearn.model_selection import train_test_split\n",
    "X_train, X_test, y_train, y_test = train_test_split(\n",
    "    X, y, random_state=0)"
   ]
  },
  {
   "cell_type": "markdown",
   "metadata": {},
   "source": [
    "### 1 Hidden Layer"
   ]
  },
  {
   "cell_type": "markdown",
   "metadata": {},
   "source": [
    "Implement a 1 hidden layer SNN with tanh activation function and backpropagation algorithm"
   ]
  },
  {
   "cell_type": "code",
   "execution_count": 20,
   "metadata": {},
   "outputs": [],
   "source": [
    "class SNN1:\n",
    "    \n",
    "    def __init__(self,hidden, eta,nepochs,lam):\n",
    "        self.nepochs = nepochs\n",
    "        self.eta = eta\n",
    "        self.lam = lam\n",
    "        self.num_hidden = hidden\n",
    "    \n",
    "    def OneHot(self,y):\n",
    "        hot_mat = np.zeros((len(y), len(np.unique(y))))\n",
    "        for i, val in enumerate(y):\n",
    "            hot_mat[i, val] = 1\n",
    "        return hot_mat\n",
    "    \n",
    "    def softmax(self,z):\n",
    "        return (np.exp(z) / np.sum(np.exp(z), axis=1, keepdims=True))\n",
    "    \n",
    "    def activation(self,z):\n",
    "        return np.tanh(z)\n",
    "    \n",
    "    def fit(self,x,y):\n",
    "        self.num_outcomes = len(np.unique(y))\n",
    "        self.weights_1 = np.random.random((len(x[0]),self.num_hidden))\n",
    "        self.weights_2 = np.random.random((self.num_hidden,self.num_outcomes))\n",
    "        self.bias_1 = np.random.random(self.num_hidden)\n",
    "        self.bias_2 = np.random.random(self.num_outcomes)\n",
    "        \n",
    "        y = self.OneHot(y)\n",
    "        \n",
    "        for i in range(self.nepochs):\n",
    "            \n",
    "            #perform a forward pass\n",
    "            z_1 = x.dot(self.weights_1) + self.bias_1\n",
    "            a_1 = self.activation(z_1)\n",
    "            z_2 = a_1.dot(self.weights_2) + self.bias_2\n",
    "            softmax = self.softmax(z_2)\n",
    "        \n",
    "            #perform backpropagation\n",
    "            error_output = softmax - y\n",
    "            grad_2 = np.dot(a_1.T,error_output)\n",
    "            error_hidden = np.dot(error_output,self.weights_2.T)*(1-np.power(a_1,2))\n",
    "            grad_1 = np.dot(x.T,error_hidden)\n",
    "            \n",
    "            self.weights_2 -= self.eta*(grad_2 + self.lam*self.weights_2)\n",
    "            self.weights_1 -= self.eta*(grad_1 + self.lam*self.weights_1)\n",
    "            self.bias_2 -= self.eta*np.sum(error_output,axis=0)\n",
    "            self.bias_1 -= self.eta*np.sum(error_hidden,axis=0)\n",
    "            \n",
    "        return self\n",
    "    \n",
    "    def predict(self,x):\n",
    "        \n",
    "        #perform a forward pass\n",
    "        z_1 = x.dot(self.weights_1) + self.bias_1\n",
    "        a_1 = self.activation(z_1)\n",
    "        z_2 = a_1.dot(self.weights_2) + self.bias_2\n",
    "        softmax = self.softmax(z_2)\n",
    "        return softmax.argmax(axis=1)"
   ]
  },
  {
   "cell_type": "markdown",
   "metadata": {},
   "source": [
    "## 2 Hidden Layers"
   ]
  },
  {
   "cell_type": "code",
   "execution_count": null,
   "metadata": {},
   "outputs": [],
   "source": [
    "class SNN1:\n",
    "    \n",
    "    def __init__(self,hidden, eta,nepochs,lam):\n",
    "        self.nepochs = nepochs\n",
    "        self.eta = eta\n",
    "        self.lam = lam\n",
    "        self.num_hidden = hidden\n",
    "    \n",
    "    def OneHot(self,y):\n",
    "        hot_mat = np.zeros((len(y), len(np.unique(y))))\n",
    "        for i, val in enumerate(y):\n",
    "            hot_mat[i, val] = 1\n",
    "        return hot_mat\n",
    "    \n",
    "    def softmax(self,z):\n",
    "        return (np.exp(z) / np.sum(np.exp(z), axis=1, keepdims=True))\n",
    "    \n",
    "    def activation(self,z):\n",
    "        return np.tanh(z)\n",
    "    \n",
    "    def fit(self,x,y):\n",
    "        self.num_outcomes = len(np.unique(y))\n",
    "        self.weights_1 = np.random.random((len(x[0]),self.num_hidden))\n",
    "        self.weights_2 = np.random.random((self.num_hidden,self.num_outcomes))\n",
    "        self.bias_1 = np.random.random(self.num_hidden)\n",
    "        self.bias_2 = np.random.random(self.num_outcomes)\n",
    "        \n",
    "        y = self.OneHot(y)\n",
    "        \n",
    "        for i in range(self.nepochs):\n",
    "            \n",
    "            #perform a forward pass\n",
    "            z_1 = x.dot(self.weights_1) + self.bias_1\n",
    "            a_1 = self.activation(z_1)\n",
    "            z_2 = a_1.dot(self.weights_2) + self.bias_2\n",
    "            softmax = self.softmax(z_2)\n",
    "        \n",
    "            #perform backpropagation\n",
    "            error_output = softmax - y\n",
    "            grad_2 = np.dot(a_1.T,error_output)\n",
    "            error_hidden = np.dot(error_output,self.weights_2.T)*(1-np.power(a_1,2))\n",
    "            grad_1 = np.dot(x.T,error_hidden)\n",
    "            \n",
    "            self.weights_2 -= self.eta*(grad_2 + self.lam*self.weights_2)\n",
    "            self.weights_1 -= self.eta*(grad_1 + self.lam*self.weights_1)\n",
    "            self.bias_2 -= self.eta*np.sum(error_output,axis=0)\n",
    "            self.bias_1 -= self.eta*np.sum(error_hidden,axis=0)\n",
    "            \n",
    "        return self\n",
    "    \n",
    "    def predict(self,x):\n",
    "        \n",
    "        #perform a forward pass\n",
    "        z_1 = x.dot(self.weights_1) + self.bias_1\n",
    "        a_1 = self.activation(z_1)\n",
    "        z_2 = a_1.dot(self.weights_2) + self.bias_2\n",
    "        softmax = self.softmax(z_2)\n",
    "        return softmax.argmax(axis=1)"
   ]
  },
  {
   "cell_type": "markdown",
   "metadata": {},
   "source": [
    "Set the initial parameters of the model"
   ]
  },
  {
   "cell_type": "code",
   "execution_count": 5,
   "metadata": {},
   "outputs": [],
   "source": [
    "SNN = SNN1(3,0.01,20000,0.01)"
   ]
  },
  {
   "cell_type": "markdown",
   "metadata": {},
   "source": [
    "Fit the model"
   ]
  },
  {
   "cell_type": "code",
   "execution_count": 6,
   "metadata": {},
   "outputs": [
    {
     "data": {
      "text/plain": [
       "<__main__.SNN1 at 0x7f06fa9fdeb8>"
      ]
     },
     "execution_count": 6,
     "metadata": {},
     "output_type": "execute_result"
    }
   ],
   "source": [
    "SNN.fit(X_train,y_train)"
   ]
  },
  {
   "cell_type": "markdown",
   "metadata": {},
   "source": [
    "Test the model"
   ]
  },
  {
   "cell_type": "code",
   "execution_count": 7,
   "metadata": {},
   "outputs": [
    {
     "name": "stdout",
     "output_type": "stream",
     "text": [
      "Accuracy: 1.00\n"
     ]
    }
   ],
   "source": [
    "ypred = SNN.predict(X_test)\n",
    "\n",
    "from sklearn.metrics import accuracy_score\n",
    "print('Accuracy: %.2f' % accuracy_score(y_test, ypred))"
   ]
  },
  {
   "cell_type": "markdown",
   "metadata": {},
   "source": [
    "Plot the model"
   ]
  },
  {
   "cell_type": "code",
   "execution_count": 8,
   "metadata": {},
   "outputs": [],
   "source": [
    "from matplotlib.colors import ListedColormap\n",
    "import matplotlib.pyplot as plt\n",
    "\n",
    "def plot_decision_regions(X, y, classifier,\n",
    "                       test_idx=None, resolution=0.02):\n",
    "    # setup marker generator and color map\n",
    "    markers = ('s', 'x', 'o', '^', 'v')\n",
    "    colors = ('red', 'blue', 'lightgreen', 'gray', 'cyan')\n",
    "    cmap = ListedColormap(colors[:len(np.unique(y))])\n",
    "    # plot the decision surface\n",
    "    x1_min, x1_max = X[:, 0].min() - 1, X[:, 0].max() + 1\n",
    "    x2_min, x2_max = X[:, 1].min() - 1, X[:, 1].max() + 1\n",
    "    xx1, xx2 = np.meshgrid(np.arange(x1_min, x1_max, resolution),\n",
    "                            np.arange(x2_min, x2_max, resolution))\n",
    "    Z = classifier.predict(np.array([xx1.ravel(), xx2.ravel()]).T)\n",
    "    Z = Z.reshape(xx1.shape)\n",
    "    plt.contourf(xx1, xx2, Z, alpha=0.4, cmap=cmap)\n",
    "    plt.xlim(xx1.min(), xx1.max())\n",
    "    plt.ylim(xx2.min(), xx2.max())\n",
    "    # plot all samples\n",
    "    X_test, y_test = X[test_idx, :], y[test_idx]\n",
    "    for idx, cl in enumerate(np.unique(y)):\n",
    "        plt.scatter(x=X[y == cl, 0], y=X[y == cl, 1],\n",
    "                       alpha=0.8, c=cmap(idx),\n",
    "                       marker=markers[idx], label=cl)\n",
    "    # highlight test samples\n",
    "    if test_idx:\n",
    "        X_test, y_test = X[test_idx, :], y[test_idx]\n",
    "        plt.scatter(X_test[:, 0], X_test[:, 1], c='',\n",
    "                   alpha=1.0, linewidth=1, marker='o',\n",
    "                   s=55, label='test set')"
   ]
  },
  {
   "cell_type": "code",
   "execution_count": 9,
   "metadata": {},
   "outputs": [
    {
     "data": {
      "image/png": "[encoded data removed]",
      "text/plain": [
       "<matplotlib.figure.Figure at 0x7f06f8329f28>"
      ]
     },
     "metadata": {},
     "output_type": "display_data"
    }
   ],
   "source": [
    "X_combined_std = np.vstack((X_train, X_test))\n",
    "y_combined = np.hstack((y_train, y_test))\n",
    "#plot_decision_regions(X=X_combined_std,y=y_combined,classifier=ppn,test_idx=range(105,150))\n",
    "plot_decision_regions(X=X_combined_std,y=y_combined,classifier=SNN)\n",
    "plt.title(r'Softmax regression')\n",
    "plt.legend(loc='upper left')\n",
    "plt.xlabel(r'petal length (cm)')\n",
    "plt.ylabel('petal width (cm)')\n",
    "\n",
    "plt.savefig(\"SNN1,3.png\", dpi = 300)"
   ]
  },
  {
   "cell_type": "markdown",
   "metadata": {},
   "source": [
    "### Additional information found here:\n",
    "\n",
    "http://ufldl.stanford.edu/tutorial/supervised/MultiLayerNeuralNetworks/ (for a mathematica overview)\n",
    "\n",
    "http://colah.github.io/posts/2015-08-Backprop/ (for backpropagation calculus)\n",
    "\n",
    "http://cs231n.github.io/optimization-2/ (for more on backpropagation as well as CNNs)"
   ]
  },
  {
   "cell_type": "markdown",
   "metadata": {},
   "source": [
    "## Test on MNIST dataset"
   ]
  },
  {
   "cell_type": "code",
   "execution_count": 10,
   "metadata": {},
   "outputs": [],
   "source": [
    "from sklearn.datasets import load_digits\n",
    "digits = load_digits()"
   ]
  },
  {
   "cell_type": "code",
   "execution_count": 11,
   "metadata": {},
   "outputs": [],
   "source": [
    "X_MNIST = digits.data\n",
    "y_MNIST = digits.target"
   ]
  },
  {
   "cell_type": "code",
   "execution_count": 12,
   "metadata": {},
   "outputs": [],
   "source": [
    "from sklearn.model_selection import train_test_split\n",
    "X_train_M, X_test_M, y_train_M, y_test_M = train_test_split(\n",
    "    X_MNIST, y_MNIST, random_state=0)"
   ]
  },
  {
   "cell_type": "code",
   "execution_count": 13,
   "metadata": {},
   "outputs": [],
   "source": [
    "from sklearn.preprocessing import StandardScaler\n",
    "sc = StandardScaler()\n",
    "sc.fit(X_train_M)\n",
    "X_train_M = sc.transform(X_train_M)\n",
    "X_test_M = sc.transform(X_test_M)"
   ]
  },
  {
   "cell_type": "code",
   "execution_count": 14,
   "metadata": {},
   "outputs": [],
   "source": [
    "X_train_M = np.array(X_train_M)\n",
    "X_test_M = np.array(X_test_M)\n",
    "y_train_M = np.array(y_train_M)\n",
    "y_test_M = np.array(y_test_M)"
   ]
  },
  {
   "cell_type": "markdown",
   "metadata": {},
   "source": [
    "Increasing the number of hidden units in the layer has increased the accuracy from 0.7 to 0.98"
   ]
  },
  {
   "cell_type": "code",
   "execution_count": 17,
   "metadata": {},
   "outputs": [],
   "source": [
    "SNN = SNN1(100,0.01,20000,0.01)"
   ]
  },
  {
   "cell_type": "code",
   "execution_count": 18,
   "metadata": {},
   "outputs": [
    {
     "data": {
      "text/plain": [
       "<__main__.SNN1 at 0x7f06f21f05c0>"
      ]
     },
     "execution_count": 18,
     "metadata": {},
     "output_type": "execute_result"
    }
   ],
   "source": [
    "SNN.fit(X_train_M,y_train_M)"
   ]
  },
  {
   "cell_type": "code",
   "execution_count": 19,
   "metadata": {},
   "outputs": [
    {
     "name": "stdout",
     "output_type": "stream",
     "text": [
      "Accuracy: 0.98\n"
     ]
    }
   ],
   "source": [
    "ypred = SNN.predict(X_test_M)\n",
    "\n",
    "from sklearn.metrics import accuracy_score\n",
    "print('Accuracy: %.2f' % accuracy_score(y_test_M, ypred))"
   ]
  }
 ],
 "metadata": {
  "kernelspec": {
   "display_name": "Python 3",
   "language": "python",
   "name": "python3"
  },
  "language_info": {
   "codemirror_mode": {
    "name": "ipython",
    "version": 3
   },
   "file_extension": ".py",
   "mimetype": "text/x-python",
   "name": "python",
   "nbconvert_exporter": "python",
   "pygments_lexer": "ipython3",
   "version": "3.6.3"
  }
 },
 "nbformat": 4,
 "nbformat_minor": 2
}
